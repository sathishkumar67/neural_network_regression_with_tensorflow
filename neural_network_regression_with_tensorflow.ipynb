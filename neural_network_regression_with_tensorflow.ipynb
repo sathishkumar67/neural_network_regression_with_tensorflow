{
  "nbformat": 4,
  "nbformat_minor": 0,
  "metadata": {
    "colab": {
      "provenance": [],
      "collapsed_sections": [
        "pD9itk1BOJQV"
      ]
    },
    "kernelspec": {
      "name": "python3",
      "display_name": "Python 3"
    },
    "language_info": {
      "name": "python"
    }
  },
  "cells": [
    {
      "cell_type": "markdown",
      "source": [
        "# Introduction to Regression with Neural Networks in tensorflow\n",
        "There are many defintions for a regression problem but in our case, we're going to simplify it: predicting a numberical variable based on some other combination of variables, even shorter.... predicting a number"
      ],
      "metadata": {
        "id": "pVVgib6XizU6"
      }
    },
    {
      "cell_type": "code",
      "source": [
        "# Import Tensorflow\n",
        "import tensorflow as tf\n",
        "print(tf.__version__)"
      ],
      "metadata": {
        "colab": {
          "base_uri": "https://localhost:8080/"
        },
        "id": "qtASss_AW-vA",
        "outputId": "f46a11e1-0f02-4012-f3a8-02f2c00e9cfb"
      },
      "execution_count": null,
      "outputs": [
        {
          "output_type": "stream",
          "name": "stdout",
          "text": [
            "2.9.2\n"
          ]
        }
      ]
    },
    {
      "cell_type": "markdown",
      "source": [
        "## creating data to view and fit"
      ],
      "metadata": {
        "id": "hjlzatxNXJ11"
      }
    },
    {
      "cell_type": "code",
      "source": [
        "import numpy as np\n",
        "import matplotlib.pyplot as plt\n",
        "\n",
        "# create features\n",
        "X = np.array([-7.,-4.,-1.,2.,5.,8.,11.,14.])\n",
        "\n",
        "# create labels\n",
        "y = np.array([3.,6.,9.,12.,15.,18.,21.,24.])\n",
        "\n",
        "# visualize it\n",
        "plt.scatter(X,y);"
      ],
      "metadata": {
        "colab": {
          "base_uri": "https://localhost:8080/",
          "height": 269
        },
        "id": "279cgQGuXQS-",
        "outputId": "af43115c-e1db-4060-d3b7-104e4c6b4dd3"
      },
      "execution_count": null,
      "outputs": [
        {
          "output_type": "display_data",
          "data": {
            "text/plain": [
              "<Figure size 432x288 with 1 Axes>"
            ],
            "image/png": "[encoded data removed]"
          },
          "metadata": {
            "needs_background": "light"
          }
        }
      ]
    },
    {
      "cell_type": "code",
      "source": [
        "y == X+10"
      ],
      "metadata": {
        "colab": {
          "base_uri": "https://localhost:8080/"
        },
        "id": "GB1hv04DX4wk",
        "outputId": "2e15e432-fae9-48e9-b2e1-a447e06aab08"
      },
      "execution_count": null,
      "outputs": [
        {
          "output_type": "execute_result",
          "data": {
            "text/plain": [
              "array([ True,  True,  True,  True,  True,  True,  True,  True])"
            ]
          },
          "metadata": {},
          "execution_count": 3
        }
      ]
    },
    {
      "cell_type": "markdown",
      "source": [
        "## input and output shapes"
      ],
      "metadata": {
        "id": "neXhbyReYMms"
      }
    },
    {
      "cell_type": "code",
      "source": [
        "X.shape, y.shape"
      ],
      "metadata": {
        "colab": {
          "base_uri": "https://localhost:8080/"
        },
        "id": "n4fSJx0jYcP9",
        "outputId": "d3fb4755-bea3-40fa-ea3d-2187af95d130"
      },
      "execution_count": null,
      "outputs": [
        {
          "output_type": "execute_result",
          "data": {
            "text/plain": [
              "((8,), (8,))"
            ]
          },
          "metadata": {},
          "execution_count": 4
        }
      ]
    },
    {
      "cell_type": "code",
      "source": [
        "X[1].shape"
      ],
      "metadata": {
        "colab": {
          "base_uri": "https://localhost:8080/"
        },
        "id": "PQ79cU-FaETd",
        "outputId": "f8b775bf-de6b-44da-9d2c-6a73355b4e3d"
      },
      "execution_count": null,
      "outputs": [
        {
          "output_type": "execute_result",
          "data": {
            "text/plain": [
              "()"
            ]
          },
          "metadata": {},
          "execution_count": 5
        }
      ]
    },
    {
      "cell_type": "code",
      "source": [
        "X[1].ndim"
      ],
      "metadata": {
        "colab": {
          "base_uri": "https://localhost:8080/"
        },
        "id": "dUAs8ZY4aKia",
        "outputId": "b2f562ba-6dde-42c1-b0ef-28ae0945afe3"
      },
      "execution_count": null,
      "outputs": [
        {
          "output_type": "execute_result",
          "data": {
            "text/plain": [
              "0"
            ]
          },
          "metadata": {},
          "execution_count": 6
        }
      ]
    },
    {
      "cell_type": "code",
      "source": [
        "# turn our numpy arrays into tensors \n",
        "X = tf.constant(X)\n",
        "y = tf.constant(y)\n",
        "X,y"
      ],
      "metadata": {
        "colab": {
          "base_uri": "https://localhost:8080/"
        },
        "id": "Rq0lSIo3aNzX",
        "outputId": "3a8074f3-0a3a-4494-c31e-d04266f02f94"
      },
      "execution_count": null,
      "outputs": [
        {
          "output_type": "execute_result",
          "data": {
            "text/plain": [
              "(<tf.Tensor: shape=(8,), dtype=float64, numpy=array([-7., -4., -1.,  2.,  5.,  8., 11., 14.])>,\n",
              " <tf.Tensor: shape=(8,), dtype=float64, numpy=array([ 3.,  6.,  9., 12., 15., 18., 21., 24.])>)"
            ]
          },
          "metadata": {},
          "execution_count": 7
        }
      ]
    },
    {
      "cell_type": "code",
      "source": [
        "X[0].shape"
      ],
      "metadata": {
        "colab": {
          "base_uri": "https://localhost:8080/"
        },
        "id": "jV9JnDumn_u_",
        "outputId": "3b43210e-979b-47b6-d034-7e04cecfce23"
      },
      "execution_count": null,
      "outputs": [
        {
          "output_type": "execute_result",
          "data": {
            "text/plain": [
              "TensorShape([])"
            ]
          },
          "metadata": {},
          "execution_count": 8
        }
      ]
    },
    {
      "cell_type": "code",
      "source": [
        "plt.scatter(X,y)"
      ],
      "metadata": {
        "colab": {
          "base_uri": "https://localhost:8080/",
          "height": 286
        },
        "id": "wwgzVW_FoFwn",
        "outputId": "314f92ae-d529-4503-e928-36b6222b1025"
      },
      "execution_count": null,
      "outputs": [
        {
          "output_type": "execute_result",
          "data": {
            "text/plain": [
              "<matplotlib.collections.PathCollection at 0x7fd2a8f079a0>"
            ]
          },
          "metadata": {},
          "execution_count": 9
        },
        {
          "output_type": "display_data",
          "data": {
            "text/plain": [
              "<Figure size 432x288 with 1 Axes>"
            ],
            "image/png": "[encoded data removed]"
          },
          "metadata": {
            "needs_background": "light"
          }
        }
      ]
    },
    {
      "cell_type": "code",
      "source": [
        "tf.cast(X,dtype = tf.float32)\n",
        "tf.cast(y,dtype = tf.float32)"
      ],
      "metadata": {
        "colab": {
          "base_uri": "https://localhost:8080/"
        },
        "id": "6h7rIJVX1CIV",
        "outputId": "a5fb01f1-f05f-41b0-c923-14a846558e5e"
      },
      "execution_count": null,
      "outputs": [
        {
          "output_type": "execute_result",
          "data": {
            "text/plain": [
              "<tf.Tensor: shape=(8,), dtype=float32, numpy=array([ 3.,  6.,  9., 12., 15., 18., 21., 24.], dtype=float32)>"
            ]
          },
          "metadata": {},
          "execution_count": 10
        }
      ]
    },
    {
      "cell_type": "markdown",
      "source": [
        "## steps in modelling with tensorflow\n",
        "1. creating a model \n",
        "2. compiling a model\n",
        "3. fitting a model"
      ],
      "metadata": {
        "id": "pB4YGIoyoPYf"
      }
    },
    {
      "cell_type": "code",
      "source": [
        "# set the random seed\n",
        "tf.random.set_seed(42)\n",
        "\n",
        "# 1. create a model using sequentail api\n",
        "model = tf.keras.Sequential()\n",
        "model.add(tf.keras.layers.Dense(1))\n",
        "\n",
        "# 2. compile the model\n",
        "model.compile(loss = tf.keras.losses.mae,\n",
        "              optimizer = tf.keras.optimizers.SGD(),\n",
        "              metrics = [\"mae\"])\n",
        "\n",
        "# 3. fit the model\n",
        "model.fit(tf.expand_dims(X, axis=-1), y, epochs=5) # to add a new axis"
      ],
      "metadata": {
        "colab": {
          "base_uri": "https://localhost:8080/"
        },
        "id": "CfiKpdZ7phgA",
        "outputId": "f654c0e9-3e7e-46b6-e15d-e933ba6e5247"
      },
      "execution_count": null,
      "outputs": [
        {
          "output_type": "stream",
          "name": "stdout",
          "text": [
            "Epoch 1/5\n",
            "1/1 [==============================] - 1s 1s/step - loss: 11.5048 - mae: 11.5048\n",
            "Epoch 2/5\n",
            "1/1 [==============================] - 0s 10ms/step - loss: 11.3723 - mae: 11.3723\n",
            "Epoch 3/5\n",
            "1/1 [==============================] - 0s 20ms/step - loss: 11.2398 - mae: 11.2398\n",
            "Epoch 4/5\n",
            "1/1 [==============================] - 0s 19ms/step - loss: 11.1073 - mae: 11.1073\n",
            "Epoch 5/5\n",
            "1/1 [==============================] - 0s 30ms/step - loss: 10.9748 - mae: 10.9748\n"
          ]
        },
        {
          "output_type": "execute_result",
          "data": {
            "text/plain": [
              "<keras.callbacks.History at 0x7fd2a857d190>"
            ]
          },
          "metadata": {},
          "execution_count": 11
        }
      ]
    },
    {
      "cell_type": "code",
      "source": [
        "X,y"
      ],
      "metadata": {
        "id": "B_kiNIyI0QOD",
        "colab": {
          "base_uri": "https://localhost:8080/"
        },
        "outputId": "5e4369bd-381b-4b80-da08-6038732e3838"
      },
      "execution_count": null,
      "outputs": [
        {
          "output_type": "execute_result",
          "data": {
            "text/plain": [
              "(<tf.Tensor: shape=(8,), dtype=float64, numpy=array([-7., -4., -1.,  2.,  5.,  8., 11., 14.])>,\n",
              " <tf.Tensor: shape=(8,), dtype=float64, numpy=array([ 3.,  6.,  9., 12., 15., 18., 21., 24.])>)"
            ]
          },
          "metadata": {},
          "execution_count": 12
        }
      ]
    },
    {
      "cell_type": "code",
      "source": [
        "y_pred = model.predict([17.0])\n",
        "y_pred"
      ],
      "metadata": {
        "colab": {
          "base_uri": "https://localhost:8080/"
        },
        "id": "CwFTJR7EGVrt",
        "outputId": "ea5932d2-2066-4d68-a019-d7ad7fe3e1de"
      },
      "execution_count": null,
      "outputs": [
        {
          "output_type": "stream",
          "name": "stdout",
          "text": [
            "1/1 [==============================] - 0s 312ms/step\n"
          ]
        },
        {
          "output_type": "execute_result",
          "data": {
            "text/plain": [
              "array([[12.716021]], dtype=float32)"
            ]
          },
          "metadata": {},
          "execution_count": 13
        }
      ]
    },
    {
      "cell_type": "code",
      "source": [
        "y_pred + 11"
      ],
      "metadata": {
        "colab": {
          "base_uri": "https://localhost:8080/"
        },
        "id": "HrzFffVKGcNN",
        "outputId": "942635ff-4949-41ac-c4d5-682bfbd38ff8"
      },
      "execution_count": null,
      "outputs": [
        {
          "output_type": "execute_result",
          "data": {
            "text/plain": [
              "array([[23.71602]], dtype=float32)"
            ]
          },
          "metadata": {},
          "execution_count": 14
        }
      ]
    },
    {
      "cell_type": "markdown",
      "source": [
        "## improving model\n",
        "we can improve the model, by altering the steps we took to create a model\n",
        "1. creating a model\n",
        "2. compiling a model\n",
        "3. fitting the model"
      ],
      "metadata": {
        "id": "yYGZ3_X-GgCt"
      }
    },
    {
      "cell_type": "code",
      "source": [
        "# let's rebuild our model\n",
        "\n",
        "# create a model \n",
        "model = tf.keras.Sequential([\n",
        "     tf.keras.layers.Dense(1)\n",
        "])\n",
        "\n",
        "# compile the model \n",
        "model.compile(\n",
        "     loss = tf.keras.losses.mae,\n",
        "     optimizer = tf.keras.optimizers.SGD(),\n",
        "     metrics = [\"mae\"])\n",
        "\n",
        "# fit the model(but we are going to train longer)\n",
        "model.fit(tf.expand_dims(X,axis = -1),y,epochs = 100) # increasing the epochs"
      ],
      "metadata": {
        "id": "S3GIKoc1Hc-k",
        "colab": {
          "base_uri": "https://localhost:8080/"
        },
        "outputId": "f28e55e2-eede-4ea7-d993-f2b7bae7a541"
      },
      "execution_count": null,
      "outputs": [
        {
          "output_type": "stream",
          "name": "stdout",
          "text": [
            "Epoch 1/100\n",
            "1/1 [==============================] - 1s 1s/step - loss: 11.2219 - mae: 11.2219\n",
            "Epoch 2/100\n",
            "1/1 [==============================] - 0s 13ms/step - loss: 11.0894 - mae: 11.0894\n",
            "Epoch 3/100\n",
            "1/1 [==============================] - 0s 17ms/step - loss: 10.9569 - mae: 10.9569\n",
            "Epoch 4/100\n",
            "1/1 [==============================] - 0s 14ms/step - loss: 10.8244 - mae: 10.8244\n",
            "Epoch 5/100\n",
            "1/1 [==============================] - 0s 15ms/step - loss: 10.6919 - mae: 10.6919\n",
            "Epoch 6/100\n",
            "1/1 [==============================] - 0s 12ms/step - loss: 10.5594 - mae: 10.5594\n",
            "Epoch 7/100\n",
            "1/1 [==============================] - 0s 13ms/step - loss: 10.4269 - mae: 10.4269\n",
            "Epoch 8/100\n",
            "1/1 [==============================] - 0s 50ms/step - loss: 10.2944 - mae: 10.2944\n",
            "Epoch 9/100\n",
            "1/1 [==============================] - 0s 8ms/step - loss: 10.1619 - mae: 10.1619\n",
            "Epoch 10/100\n",
            "1/1 [==============================] - 0s 9ms/step - loss: 10.0294 - mae: 10.0294\n",
            "Epoch 11/100\n",
            "1/1 [==============================] - 0s 9ms/step - loss: 9.8969 - mae: 9.8969\n",
            "Epoch 12/100\n",
            "1/1 [==============================] - 0s 7ms/step - loss: 9.7644 - mae: 9.7644\n",
            "Epoch 13/100\n",
            "1/1 [==============================] - 0s 7ms/step - loss: 9.6319 - mae: 9.6319\n",
            "Epoch 14/100\n",
            "1/1 [==============================] - 0s 11ms/step - loss: 9.4994 - mae: 9.4994\n",
            "Epoch 15/100\n",
            "1/1 [==============================] - 0s 7ms/step - loss: 9.3669 - mae: 9.3669\n",
            "Epoch 16/100\n",
            "1/1 [==============================] - 0s 23ms/step - loss: 9.2344 - mae: 9.2344\n",
            "Epoch 17/100\n",
            "1/1 [==============================] - 0s 33ms/step - loss: 9.1019 - mae: 9.1019\n",
            "Epoch 18/100\n",
            "1/1 [==============================] - 0s 21ms/step - loss: 8.9694 - mae: 8.9694\n",
            "Epoch 19/100\n",
            "1/1 [==============================] - 0s 18ms/step - loss: 8.8369 - mae: 8.8369\n",
            "Epoch 20/100\n",
            "1/1 [==============================] - 0s 13ms/step - loss: 8.7044 - mae: 8.7044\n",
            "Epoch 21/100\n",
            "1/1 [==============================] - 0s 17ms/step - loss: 8.5719 - mae: 8.5719\n",
            "Epoch 22/100\n",
            "1/1 [==============================] - 0s 11ms/step - loss: 8.4394 - mae: 8.4394\n",
            "Epoch 23/100\n",
            "1/1 [==============================] - 0s 13ms/step - loss: 8.3069 - mae: 8.3069\n",
            "Epoch 24/100\n",
            "1/1 [==============================] - 0s 11ms/step - loss: 8.1744 - mae: 8.1744\n",
            "Epoch 25/100\n",
            "1/1 [==============================] - 0s 19ms/step - loss: 8.0419 - mae: 8.0419\n",
            "Epoch 26/100\n",
            "1/1 [==============================] - 0s 8ms/step - loss: 7.9094 - mae: 7.9094\n",
            "Epoch 27/100\n",
            "1/1 [==============================] - 0s 8ms/step - loss: 7.7769 - mae: 7.7769\n",
            "Epoch 28/100\n",
            "1/1 [==============================] - 0s 9ms/step - loss: 7.6444 - mae: 7.6444\n",
            "Epoch 29/100\n",
            "1/1 [==============================] - 0s 10ms/step - loss: 7.5119 - mae: 7.5119\n",
            "Epoch 30/100\n",
            "1/1 [==============================] - 0s 12ms/step - loss: 7.3794 - mae: 7.3794\n",
            "Epoch 31/100\n",
            "1/1 [==============================] - 0s 13ms/step - loss: 7.2750 - mae: 7.2750\n",
            "Epoch 32/100\n",
            "1/1 [==============================] - 0s 30ms/step - loss: 7.2694 - mae: 7.2694\n",
            "Epoch 33/100\n",
            "1/1 [==============================] - 0s 14ms/step - loss: 7.2638 - mae: 7.2638\n",
            "Epoch 34/100\n",
            "1/1 [==============================] - 0s 14ms/step - loss: 7.2581 - mae: 7.2581\n",
            "Epoch 35/100\n",
            "1/1 [==============================] - 0s 15ms/step - loss: 7.2525 - mae: 7.2525\n",
            "Epoch 36/100\n",
            "1/1 [==============================] - 0s 13ms/step - loss: 7.2469 - mae: 7.2469\n",
            "Epoch 37/100\n",
            "1/1 [==============================] - 0s 12ms/step - loss: 7.2412 - mae: 7.2412\n",
            "Epoch 38/100\n",
            "1/1 [==============================] - 0s 8ms/step - loss: 7.2356 - mae: 7.2356\n",
            "Epoch 39/100\n",
            "1/1 [==============================] - 0s 26ms/step - loss: 7.2300 - mae: 7.2300\n",
            "Epoch 40/100\n",
            "1/1 [==============================] - 0s 22ms/step - loss: 7.2244 - mae: 7.2244\n",
            "Epoch 41/100\n",
            "1/1 [==============================] - 0s 21ms/step - loss: 7.2188 - mae: 7.2188\n",
            "Epoch 42/100\n",
            "1/1 [==============================] - 0s 7ms/step - loss: 7.2131 - mae: 7.2131\n",
            "Epoch 43/100\n",
            "1/1 [==============================] - 0s 13ms/step - loss: 7.2075 - mae: 7.2075\n",
            "Epoch 44/100\n",
            "1/1 [==============================] - 0s 32ms/step - loss: 7.2019 - mae: 7.2019\n",
            "Epoch 45/100\n",
            "1/1 [==============================] - 0s 16ms/step - loss: 7.1962 - mae: 7.1962\n",
            "Epoch 46/100\n",
            "1/1 [==============================] - 0s 12ms/step - loss: 7.1906 - mae: 7.1906\n",
            "Epoch 47/100\n",
            "1/1 [==============================] - 0s 12ms/step - loss: 7.1850 - mae: 7.1850\n",
            "Epoch 48/100\n",
            "1/1 [==============================] - 0s 11ms/step - loss: 7.1794 - mae: 7.1794\n",
            "Epoch 49/100\n",
            "1/1 [==============================] - 0s 12ms/step - loss: 7.1737 - mae: 7.1737\n",
            "Epoch 50/100\n",
            "1/1 [==============================] - 0s 15ms/step - loss: 7.1681 - mae: 7.1681\n",
            "Epoch 51/100\n",
            "1/1 [==============================] - 0s 15ms/step - loss: 7.1625 - mae: 7.1625\n",
            "Epoch 52/100\n",
            "1/1 [==============================] - 0s 11ms/step - loss: 7.1569 - mae: 7.1569\n",
            "Epoch 53/100\n",
            "1/1 [==============================] - 0s 11ms/step - loss: 7.1512 - mae: 7.1512\n",
            "Epoch 54/100\n",
            "1/1 [==============================] - 0s 9ms/step - loss: 7.1456 - mae: 7.1456\n",
            "Epoch 55/100\n",
            "1/1 [==============================] - 0s 10ms/step - loss: 7.1400 - mae: 7.1400\n",
            "Epoch 56/100\n",
            "1/1 [==============================] - 0s 13ms/step - loss: 7.1344 - mae: 7.1344\n",
            "Epoch 57/100\n",
            "1/1 [==============================] - 0s 13ms/step - loss: 7.1287 - mae: 7.1287\n",
            "Epoch 58/100\n",
            "1/1 [==============================] - 0s 18ms/step - loss: 7.1231 - mae: 7.1231\n",
            "Epoch 59/100\n",
            "1/1 [==============================] - 0s 10ms/step - loss: 7.1175 - mae: 7.1175\n",
            "Epoch 60/100\n",
            "1/1 [==============================] - 0s 12ms/step - loss: 7.1119 - mae: 7.1119\n",
            "Epoch 61/100\n",
            "1/1 [==============================] - 0s 13ms/step - loss: 7.1062 - mae: 7.1062\n",
            "Epoch 62/100\n",
            "1/1 [==============================] - 0s 11ms/step - loss: 7.1006 - mae: 7.1006\n",
            "Epoch 63/100\n",
            "1/1 [==============================] - 0s 6ms/step - loss: 7.0950 - mae: 7.0950\n",
            "Epoch 64/100\n",
            "1/1 [==============================] - 0s 7ms/step - loss: 7.0894 - mae: 7.0894\n",
            "Epoch 65/100\n",
            "1/1 [==============================] - 0s 33ms/step - loss: 7.0838 - mae: 7.0838\n",
            "Epoch 66/100\n",
            "1/1 [==============================] - 0s 8ms/step - loss: 7.0781 - mae: 7.0781\n",
            "Epoch 67/100\n",
            "1/1 [==============================] - 0s 26ms/step - loss: 7.0725 - mae: 7.0725\n",
            "Epoch 68/100\n",
            "1/1 [==============================] - 0s 9ms/step - loss: 7.0669 - mae: 7.0669\n",
            "Epoch 69/100\n",
            "1/1 [==============================] - 0s 11ms/step - loss: 7.0613 - mae: 7.0613\n",
            "Epoch 70/100\n",
            "1/1 [==============================] - 0s 7ms/step - loss: 7.0556 - mae: 7.0556\n",
            "Epoch 71/100\n",
            "1/1 [==============================] - 0s 8ms/step - loss: 7.0500 - mae: 7.0500\n",
            "Epoch 72/100\n",
            "1/1 [==============================] - 0s 8ms/step - loss: 7.0444 - mae: 7.0444\n",
            "Epoch 73/100\n",
            "1/1 [==============================] - 0s 9ms/step - loss: 7.0388 - mae: 7.0388\n",
            "Epoch 74/100\n",
            "1/1 [==============================] - 0s 16ms/step - loss: 7.0331 - mae: 7.0331\n",
            "Epoch 75/100\n",
            "1/1 [==============================] - 0s 14ms/step - loss: 7.0275 - mae: 7.0275\n",
            "Epoch 76/100\n",
            "1/1 [==============================] - 0s 8ms/step - loss: 7.0219 - mae: 7.0219\n",
            "Epoch 77/100\n",
            "1/1 [==============================] - 0s 39ms/step - loss: 7.0163 - mae: 7.0163\n",
            "Epoch 78/100\n",
            "1/1 [==============================] - 0s 13ms/step - loss: 7.0106 - mae: 7.0106\n",
            "Epoch 79/100\n",
            "1/1 [==============================] - 0s 6ms/step - loss: 7.0050 - mae: 7.0050\n",
            "Epoch 80/100\n",
            "1/1 [==============================] - 0s 7ms/step - loss: 6.9994 - mae: 6.9994\n",
            "Epoch 81/100\n",
            "1/1 [==============================] - 0s 8ms/step - loss: 6.9938 - mae: 6.9938\n",
            "Epoch 82/100\n",
            "1/1 [==============================] - 0s 8ms/step - loss: 6.9881 - mae: 6.9881\n",
            "Epoch 83/100\n",
            "1/1 [==============================] - 0s 6ms/step - loss: 6.9825 - mae: 6.9825\n",
            "Epoch 84/100\n",
            "1/1 [==============================] - 0s 24ms/step - loss: 6.9769 - mae: 6.9769\n",
            "Epoch 85/100\n",
            "1/1 [==============================] - 0s 47ms/step - loss: 6.9713 - mae: 6.9713\n",
            "Epoch 86/100\n",
            "1/1 [==============================] - 0s 13ms/step - loss: 6.9656 - mae: 6.9656\n",
            "Epoch 87/100\n",
            "1/1 [==============================] - 0s 12ms/step - loss: 6.9600 - mae: 6.9600\n",
            "Epoch 88/100\n",
            "1/1 [==============================] - 0s 6ms/step - loss: 6.9544 - mae: 6.9544\n",
            "Epoch 89/100\n",
            "1/1 [==============================] - 0s 15ms/step - loss: 6.9488 - mae: 6.9488\n",
            "Epoch 90/100\n",
            "1/1 [==============================] - 0s 21ms/step - loss: 6.9431 - mae: 6.9431\n",
            "Epoch 91/100\n",
            "1/1 [==============================] - 0s 31ms/step - loss: 6.9375 - mae: 6.9375\n",
            "Epoch 92/100\n",
            "1/1 [==============================] - 0s 8ms/step - loss: 6.9319 - mae: 6.9319\n",
            "Epoch 93/100\n",
            "1/1 [==============================] - 0s 8ms/step - loss: 6.9263 - mae: 6.9263\n",
            "Epoch 94/100\n",
            "1/1 [==============================] - 0s 16ms/step - loss: 6.9206 - mae: 6.9206\n",
            "Epoch 95/100\n",
            "1/1 [==============================] - 0s 12ms/step - loss: 6.9150 - mae: 6.9150\n",
            "Epoch 96/100\n",
            "1/1 [==============================] - 0s 41ms/step - loss: 6.9094 - mae: 6.9094\n",
            "Epoch 97/100\n",
            "1/1 [==============================] - 0s 12ms/step - loss: 6.9038 - mae: 6.9038\n",
            "Epoch 98/100\n",
            "1/1 [==============================] - 0s 34ms/step - loss: 6.8981 - mae: 6.8981\n",
            "Epoch 99/100\n",
            "1/1 [==============================] - 0s 12ms/step - loss: 6.8925 - mae: 6.8925\n",
            "Epoch 100/100\n",
            "1/1 [==============================] - 0s 8ms/step - loss: 6.8869 - mae: 6.8869\n"
          ]
        },
        {
          "output_type": "execute_result",
          "data": {
            "text/plain": [
              "<keras.callbacks.History at 0x7fd2a6d15f40>"
            ]
          },
          "metadata": {},
          "execution_count": 15
        }
      ]
    },
    {
      "cell_type": "code",
      "source": [
        "model.predict([17.])"
      ],
      "metadata": {
        "colab": {
          "base_uri": "https://localhost:8080/"
        },
        "id": "RgiX7g1xKo2j",
        "outputId": "18d8dcfd-c20f-46be-eedb-e879dc397163"
      },
      "execution_count": null,
      "outputs": [
        {
          "output_type": "stream",
          "name": "stdout",
          "text": [
            "1/1 [==============================] - 0s 164ms/step\n"
          ]
        },
        {
          "output_type": "execute_result",
          "data": {
            "text/plain": [
              "array([[29.739855]], dtype=float32)"
            ]
          },
          "metadata": {},
          "execution_count": 16
        }
      ]
    },
    {
      "cell_type": "code",
      "source": [
        "# rebuilding another time but changing the optimizers\n",
        "\n",
        "# create a model\n",
        "model = tf.keras.Sequential([\n",
        "    tf.keras.layers.Dense(1)\n",
        "])\n",
        "\n",
        "# compile the model\n",
        "model.compile(\n",
        "    loss = tf.keras.losses.mae,\n",
        "    optimizer = tf.keras.optimizers.Adam(lr = 0.1) # lr meanis learning rate \n",
        ")\n",
        "\n",
        "# fit the model\n",
        "model.fit(tf.expand_dims(X,axis = -1),y,epochs = 100)"
      ],
      "metadata": {
        "id": "tpERSFgpNP2K",
        "colab": {
          "base_uri": "https://localhost:8080/"
        },
        "outputId": "ba62d4c5-dbc7-4577-cd92-57e4078bd72e"
      },
      "execution_count": null,
      "outputs": [
        {
          "output_type": "stream",
          "name": "stderr",
          "text": [
            "/usr/local/lib/python3.8/dist-packages/keras/optimizers/optimizer_v2/adam.py:110: UserWarning: The `lr` argument is deprecated, use `learning_rate` instead.\n",
            "  super(Adam, self).__init__(name, **kwargs)\n"
          ]
        },
        {
          "output_type": "stream",
          "name": "stdout",
          "text": [
            "Epoch 1/100\n",
            "1/1 [==============================] - 1s 511ms/step - loss: 10.5736\n",
            "Epoch 2/100\n",
            "1/1 [==============================] - 0s 9ms/step - loss: 10.1236\n",
            "Epoch 3/100\n",
            "1/1 [==============================] - 0s 11ms/step - loss: 9.6736\n",
            "Epoch 4/100\n",
            "1/1 [==============================] - 0s 10ms/step - loss: 9.2236\n",
            "Epoch 5/100\n",
            "1/1 [==============================] - 0s 10ms/step - loss: 8.7736\n",
            "Epoch 6/100\n",
            "1/1 [==============================] - 0s 10ms/step - loss: 8.3236\n",
            "Epoch 7/100\n",
            "1/1 [==============================] - 0s 10ms/step - loss: 7.8736\n",
            "Epoch 8/100\n",
            "1/1 [==============================] - 0s 12ms/step - loss: 7.4236\n",
            "Epoch 9/100\n",
            "1/1 [==============================] - 0s 8ms/step - loss: 6.9736\n",
            "Epoch 10/100\n",
            "1/1 [==============================] - 0s 13ms/step - loss: 6.8250\n",
            "Epoch 11/100\n",
            "1/1 [==============================] - 0s 12ms/step - loss: 6.7706\n",
            "Epoch 12/100\n",
            "1/1 [==============================] - 0s 7ms/step - loss: 6.9023\n",
            "Epoch 13/100\n",
            "1/1 [==============================] - 0s 9ms/step - loss: 6.9798\n",
            "Epoch 14/100\n",
            "1/1 [==============================] - 0s 12ms/step - loss: 7.0115\n",
            "Epoch 15/100\n",
            "1/1 [==============================] - 0s 10ms/step - loss: 7.0041\n",
            "Epoch 16/100\n",
            "1/1 [==============================] - 0s 30ms/step - loss: 6.9629\n",
            "Epoch 17/100\n",
            "1/1 [==============================] - 0s 18ms/step - loss: 6.8925\n",
            "Epoch 18/100\n",
            "1/1 [==============================] - 0s 19ms/step - loss: 6.7967\n",
            "Epoch 19/100\n",
            "1/1 [==============================] - 0s 13ms/step - loss: 6.6786\n",
            "Epoch 20/100\n",
            "1/1 [==============================] - 0s 30ms/step - loss: 6.5410\n",
            "Epoch 21/100\n",
            "1/1 [==============================] - 0s 12ms/step - loss: 6.3862\n",
            "Epoch 22/100\n",
            "1/1 [==============================] - 0s 14ms/step - loss: 6.2161\n",
            "Epoch 23/100\n",
            "1/1 [==============================] - 0s 48ms/step - loss: 6.0324\n",
            "Epoch 24/100\n",
            "1/1 [==============================] - 0s 9ms/step - loss: 5.9317\n",
            "Epoch 25/100\n",
            "1/1 [==============================] - 0s 17ms/step - loss: 5.8711\n",
            "Epoch 26/100\n",
            "1/1 [==============================] - 0s 12ms/step - loss: 5.8089\n",
            "Epoch 27/100\n",
            "1/1 [==============================] - 0s 49ms/step - loss: 5.7619\n",
            "Epoch 28/100\n",
            "1/1 [==============================] - 0s 12ms/step - loss: 5.7609\n",
            "Epoch 29/100\n",
            "1/1 [==============================] - 0s 12ms/step - loss: 5.7017\n",
            "Epoch 30/100\n",
            "1/1 [==============================] - 0s 27ms/step - loss: 5.5917\n",
            "Epoch 31/100\n",
            "1/1 [==============================] - 0s 11ms/step - loss: 5.4656\n",
            "Epoch 32/100\n",
            "1/1 [==============================] - 0s 13ms/step - loss: 5.3926\n",
            "Epoch 33/100\n",
            "1/1 [==============================] - 0s 10ms/step - loss: 5.3197\n",
            "Epoch 34/100\n",
            "1/1 [==============================] - 0s 10ms/step - loss: 5.2467\n",
            "Epoch 35/100\n",
            "1/1 [==============================] - 0s 10ms/step - loss: 5.1738\n",
            "Epoch 36/100\n",
            "1/1 [==============================] - 0s 13ms/step - loss: 5.1009\n",
            "Epoch 37/100\n",
            "1/1 [==============================] - 0s 18ms/step - loss: 5.0279\n",
            "Epoch 38/100\n",
            "1/1 [==============================] - 0s 17ms/step - loss: 4.9770\n",
            "Epoch 39/100\n",
            "1/1 [==============================] - 0s 9ms/step - loss: 4.9214\n",
            "Epoch 40/100\n",
            "1/1 [==============================] - 0s 7ms/step - loss: 4.8387\n",
            "Epoch 41/100\n",
            "1/1 [==============================] - 0s 20ms/step - loss: 4.7472\n",
            "Epoch 42/100\n",
            "1/1 [==============================] - 0s 8ms/step - loss: 4.6789\n",
            "Epoch 43/100\n",
            "1/1 [==============================] - 0s 17ms/step - loss: 4.6100\n",
            "Epoch 44/100\n",
            "1/1 [==============================] - 0s 45ms/step - loss: 4.5405\n",
            "Epoch 45/100\n",
            "1/1 [==============================] - 0s 7ms/step - loss: 4.4706\n",
            "Epoch 46/100\n",
            "1/1 [==============================] - 0s 6ms/step - loss: 4.4002\n",
            "Epoch 47/100\n",
            "1/1 [==============================] - 0s 6ms/step - loss: 4.3295\n",
            "Epoch 48/100\n",
            "1/1 [==============================] - 0s 11ms/step - loss: 4.2584\n",
            "Epoch 49/100\n",
            "1/1 [==============================] - 0s 6ms/step - loss: 4.1869\n",
            "Epoch 50/100\n",
            "1/1 [==============================] - 0s 10ms/step - loss: 4.1152\n",
            "Epoch 51/100\n",
            "1/1 [==============================] - 0s 9ms/step - loss: 4.0432\n",
            "Epoch 52/100\n",
            "1/1 [==============================] - 0s 7ms/step - loss: 3.9710\n",
            "Epoch 53/100\n",
            "1/1 [==============================] - 0s 7ms/step - loss: 3.8986\n",
            "Epoch 54/100\n",
            "1/1 [==============================] - 0s 7ms/step - loss: 3.8259\n",
            "Epoch 55/100\n",
            "1/1 [==============================] - 0s 6ms/step - loss: 3.7531\n",
            "Epoch 56/100\n",
            "1/1 [==============================] - 0s 6ms/step - loss: 3.6802\n",
            "Epoch 57/100\n",
            "1/1 [==============================] - 0s 7ms/step - loss: 3.6071\n",
            "Epoch 58/100\n",
            "1/1 [==============================] - 0s 6ms/step - loss: 3.5339\n",
            "Epoch 59/100\n",
            "1/1 [==============================] - 0s 6ms/step - loss: 3.4605\n",
            "Epoch 60/100\n",
            "1/1 [==============================] - 0s 6ms/step - loss: 3.3871\n",
            "Epoch 61/100\n",
            "1/1 [==============================] - 0s 6ms/step - loss: 3.3135\n",
            "Epoch 62/100\n",
            "1/1 [==============================] - 0s 6ms/step - loss: 3.2399\n",
            "Epoch 63/100\n",
            "1/1 [==============================] - 0s 6ms/step - loss: 3.1662\n",
            "Epoch 64/100\n",
            "1/1 [==============================] - 0s 6ms/step - loss: 3.0924\n",
            "Epoch 65/100\n",
            "1/1 [==============================] - 0s 10ms/step - loss: 3.0220\n",
            "Epoch 66/100\n",
            "1/1 [==============================] - 0s 13ms/step - loss: 2.9468\n",
            "Epoch 67/100\n",
            "1/1 [==============================] - 0s 18ms/step - loss: 2.8747\n",
            "Epoch 68/100\n",
            "1/1 [==============================] - 0s 8ms/step - loss: 2.8024\n",
            "Epoch 69/100\n",
            "1/1 [==============================] - 0s 7ms/step - loss: 2.7299\n",
            "Epoch 70/100\n",
            "1/1 [==============================] - 0s 7ms/step - loss: 2.6571\n",
            "Epoch 71/100\n",
            "1/1 [==============================] - 0s 7ms/step - loss: 2.5841\n",
            "Epoch 72/100\n",
            "1/1 [==============================] - 0s 6ms/step - loss: 2.5110\n",
            "Epoch 73/100\n",
            "1/1 [==============================] - 0s 6ms/step - loss: 2.4377\n",
            "Epoch 74/100\n",
            "1/1 [==============================] - 0s 10ms/step - loss: 2.3642\n",
            "Epoch 75/100\n",
            "1/1 [==============================] - 0s 7ms/step - loss: 2.2906\n",
            "Epoch 76/100\n",
            "1/1 [==============================] - 0s 11ms/step - loss: 2.2169\n",
            "Epoch 77/100\n",
            "1/1 [==============================] - 0s 8ms/step - loss: 2.1431\n",
            "Epoch 78/100\n",
            "1/1 [==============================] - 0s 18ms/step - loss: 2.0692\n",
            "Epoch 79/100\n",
            "1/1 [==============================] - 0s 9ms/step - loss: 2.0054\n",
            "Epoch 80/100\n",
            "1/1 [==============================] - 0s 20ms/step - loss: 1.9234\n",
            "Epoch 81/100\n",
            "1/1 [==============================] - 0s 15ms/step - loss: 1.8512\n",
            "Epoch 82/100\n",
            "1/1 [==============================] - 0s 11ms/step - loss: 1.7788\n",
            "Epoch 83/100\n",
            "1/1 [==============================] - 0s 13ms/step - loss: 1.7061\n",
            "Epoch 84/100\n",
            "1/1 [==============================] - 0s 13ms/step - loss: 1.6331\n",
            "Epoch 85/100\n",
            "1/1 [==============================] - 0s 19ms/step - loss: 1.5600\n",
            "Epoch 86/100\n",
            "1/1 [==============================] - 0s 9ms/step - loss: 1.4867\n",
            "Epoch 87/100\n",
            "1/1 [==============================] - 0s 42ms/step - loss: 1.4132\n",
            "Epoch 88/100\n",
            "1/1 [==============================] - 0s 13ms/step - loss: 1.3395\n",
            "Epoch 89/100\n",
            "1/1 [==============================] - 0s 10ms/step - loss: 1.2657\n",
            "Epoch 90/100\n",
            "1/1 [==============================] - 0s 20ms/step - loss: 1.1918\n",
            "Epoch 91/100\n",
            "1/1 [==============================] - 0s 14ms/step - loss: 1.1178\n",
            "Epoch 92/100\n",
            "1/1 [==============================] - 0s 12ms/step - loss: 1.0437\n",
            "Epoch 93/100\n",
            "1/1 [==============================] - 0s 12ms/step - loss: 0.9695\n",
            "Epoch 94/100\n",
            "1/1 [==============================] - 0s 15ms/step - loss: 0.8952\n",
            "Epoch 95/100\n",
            "1/1 [==============================] - 0s 11ms/step - loss: 0.8208\n",
            "Epoch 96/100\n",
            "1/1 [==============================] - 0s 12ms/step - loss: 0.7464\n",
            "Epoch 97/100\n",
            "1/1 [==============================] - 0s 13ms/step - loss: 0.6828\n",
            "Epoch 98/100\n",
            "1/1 [==============================] - 0s 11ms/step - loss: 0.5997\n",
            "Epoch 99/100\n",
            "1/1 [==============================] - 0s 14ms/step - loss: 0.5291\n",
            "Epoch 100/100\n",
            "1/1 [==============================] - 0s 8ms/step - loss: 0.4521\n"
          ]
        },
        {
          "output_type": "execute_result",
          "data": {
            "text/plain": [
              "<keras.callbacks.History at 0x7fd2ad0e8d90>"
            ]
          },
          "metadata": {},
          "execution_count": 17
        }
      ]
    },
    {
      "cell_type": "code",
      "source": [
        "model.predict([17.])"
      ],
      "metadata": {
        "colab": {
          "base_uri": "https://localhost:8080/"
        },
        "id": "NXOi7SdZOL18",
        "outputId": "f3935df1-dc19-47cb-b541-92614d742b47"
      },
      "execution_count": null,
      "outputs": [
        {
          "output_type": "stream",
          "name": "stdout",
          "text": [
            "1/1 [==============================] - 0s 148ms/step\n"
          ]
        },
        {
          "output_type": "execute_result",
          "data": {
            "text/plain": [
              "array([[27.497076]], dtype=float32)"
            ]
          },
          "metadata": {},
          "execution_count": 18
        }
      ]
    },
    {
      "cell_type": "markdown",
      "source": [
        "## commom ways to improve a deep model:\n",
        "1. adding layers\n",
        "2. increase the number of hidden units\n",
        "3. change the activation functions\n",
        "4. change the optimization function\n",
        "5. change the learning rate \n",
        "6. fitting on more data"
      ],
      "metadata": {
        "id": "GOYMJxrfOdGO"
      }
    },
    {
      "cell_type": "code",
      "source": [
        "X = tf.expand_dims(X,axis = -1)\n",
        "X"
      ],
      "metadata": {
        "colab": {
          "base_uri": "https://localhost:8080/"
        },
        "id": "3jo0mBpCwDXp",
        "outputId": "1882f801-8e12-498c-d651-17842832865a"
      },
      "execution_count": null,
      "outputs": [
        {
          "output_type": "execute_result",
          "data": {
            "text/plain": [
              "<tf.Tensor: shape=(8, 1), dtype=float64, numpy=\n",
              "array([[-7.],\n",
              "       [-4.],\n",
              "       [-1.],\n",
              "       [ 2.],\n",
              "       [ 5.],\n",
              "       [ 8.],\n",
              "       [11.],\n",
              "       [14.]])>"
            ]
          },
          "metadata": {},
          "execution_count": 19
        }
      ]
    },
    {
      "cell_type": "code",
      "source": [
        "# improving the model a lot better\n",
        "model = tf.keras.Sequential([\n",
        "    tf.keras.layers.Dense(100,activation = \"relu\"),\n",
        "    tf.keras.layers.Dense(100,activation = \"relu\"),\n",
        "    tf.keras.layers.Dense(100,activation = \"relu\"),\n",
        "    tf.keras.layers.Dense(1)\n",
        "])\n",
        "\n",
        "# compile the model\n",
        "model.compile(loss = [\"mae\"],\n",
        "              optimizer = tf.keras.optimizers.Adam(lr = 0.01),\n",
        "              metrics = [\"mae\"])\n",
        "\n",
        "# fit the model\n",
        "model.fit(X,y,epochs = 100)"
      ],
      "metadata": {
        "id": "iHz7I9Yzvp2M",
        "colab": {
          "base_uri": "https://localhost:8080/"
        },
        "outputId": "37c64e85-c2df-46b3-8335-04394fa82204"
      },
      "execution_count": null,
      "outputs": [
        {
          "output_type": "stream",
          "name": "stdout",
          "text": [
            "Epoch 1/100\n",
            "1/1 [==============================] - 1s 1s/step - loss: 13.0060 - mae: 13.0060\n",
            "Epoch 2/100\n",
            "1/1 [==============================] - 0s 25ms/step - loss: 9.8857 - mae: 9.8857\n",
            "Epoch 3/100\n",
            "1/1 [==============================] - 0s 16ms/step - loss: 6.3097 - mae: 6.3097\n",
            "Epoch 4/100\n",
            "1/1 [==============================] - 0s 19ms/step - loss: 4.8230 - mae: 4.8230\n",
            "Epoch 5/100\n",
            "1/1 [==============================] - 0s 20ms/step - loss: 5.8864 - mae: 5.8864\n",
            "Epoch 6/100\n",
            "1/1 [==============================] - 0s 16ms/step - loss: 5.0058 - mae: 5.0058\n",
            "Epoch 7/100\n",
            "1/1 [==============================] - 0s 17ms/step - loss: 3.9187 - mae: 3.9187\n",
            "Epoch 8/100\n",
            "1/1 [==============================] - 0s 24ms/step - loss: 4.6911 - mae: 4.6911\n",
            "Epoch 9/100\n",
            "1/1 [==============================] - 0s 19ms/step - loss: 4.8066 - mae: 4.8066\n",
            "Epoch 10/100\n",
            "1/1 [==============================] - 0s 11ms/step - loss: 3.8656 - mae: 3.8656\n",
            "Epoch 11/100\n",
            "1/1 [==============================] - 0s 14ms/step - loss: 3.6272 - mae: 3.6272\n",
            "Epoch 12/100\n",
            "1/1 [==============================] - 0s 32ms/step - loss: 3.7488 - mae: 3.7488\n",
            "Epoch 13/100\n",
            "1/1 [==============================] - 0s 9ms/step - loss: 3.8799 - mae: 3.8799\n",
            "Epoch 14/100\n",
            "1/1 [==============================] - 0s 9ms/step - loss: 3.6804 - mae: 3.6804\n",
            "Epoch 15/100\n",
            "1/1 [==============================] - 0s 9ms/step - loss: 3.4630 - mae: 3.4630\n",
            "Epoch 16/100\n",
            "1/1 [==============================] - 0s 15ms/step - loss: 3.3664 - mae: 3.3664\n",
            "Epoch 17/100\n",
            "1/1 [==============================] - 0s 32ms/step - loss: 3.4038 - mae: 3.4038\n",
            "Epoch 18/100\n",
            "1/1 [==============================] - 0s 25ms/step - loss: 3.2881 - mae: 3.2881\n",
            "Epoch 19/100\n",
            "1/1 [==============================] - 0s 42ms/step - loss: 3.0222 - mae: 3.0222\n",
            "Epoch 20/100\n",
            "1/1 [==============================] - 0s 26ms/step - loss: 3.0822 - mae: 3.0822\n",
            "Epoch 21/100\n",
            "1/1 [==============================] - 0s 20ms/step - loss: 3.2812 - mae: 3.2812\n",
            "Epoch 22/100\n",
            "1/1 [==============================] - 0s 13ms/step - loss: 2.9772 - mae: 2.9772\n",
            "Epoch 23/100\n",
            "1/1 [==============================] - 0s 28ms/step - loss: 2.5888 - mae: 2.5888\n",
            "Epoch 24/100\n",
            "1/1 [==============================] - 0s 13ms/step - loss: 2.9471 - mae: 2.9471\n",
            "Epoch 25/100\n",
            "1/1 [==============================] - 0s 11ms/step - loss: 2.6386 - mae: 2.6386\n",
            "Epoch 26/100\n",
            "1/1 [==============================] - 0s 12ms/step - loss: 2.2161 - mae: 2.2161\n",
            "Epoch 27/100\n",
            "1/1 [==============================] - 0s 11ms/step - loss: 2.5638 - mae: 2.5638\n",
            "Epoch 28/100\n",
            "1/1 [==============================] - 0s 10ms/step - loss: 2.4703 - mae: 2.4703\n",
            "Epoch 29/100\n",
            "1/1 [==============================] - 0s 10ms/step - loss: 1.9994 - mae: 1.9994\n",
            "Epoch 30/100\n",
            "1/1 [==============================] - 0s 14ms/step - loss: 1.4578 - mae: 1.4578\n",
            "Epoch 31/100\n",
            "1/1 [==============================] - 0s 14ms/step - loss: 1.9954 - mae: 1.9954\n",
            "Epoch 32/100\n",
            "1/1 [==============================] - 0s 13ms/step - loss: 1.5080 - mae: 1.5080\n",
            "Epoch 33/100\n",
            "1/1 [==============================] - 0s 10ms/step - loss: 1.1261 - mae: 1.1261\n",
            "Epoch 34/100\n",
            "1/1 [==============================] - 0s 9ms/step - loss: 1.3013 - mae: 1.3013\n",
            "Epoch 35/100\n",
            "1/1 [==============================] - 0s 9ms/step - loss: 0.2363 - mae: 0.2363\n",
            "Epoch 36/100\n",
            "1/1 [==============================] - 0s 9ms/step - loss: 1.7509 - mae: 1.7509\n",
            "Epoch 37/100\n",
            "1/1 [==============================] - 0s 12ms/step - loss: 2.0811 - mae: 2.0811\n",
            "Epoch 38/100\n",
            "1/1 [==============================] - 0s 8ms/step - loss: 1.6115 - mae: 1.6115\n",
            "Epoch 39/100\n",
            "1/1 [==============================] - 0s 16ms/step - loss: 0.5421 - mae: 0.5421\n",
            "Epoch 40/100\n",
            "1/1 [==============================] - 0s 12ms/step - loss: 1.3990 - mae: 1.3990\n",
            "Epoch 41/100\n",
            "1/1 [==============================] - 0s 12ms/step - loss: 0.6658 - mae: 0.6658\n",
            "Epoch 42/100\n",
            "1/1 [==============================] - 0s 12ms/step - loss: 1.7065 - mae: 1.7065\n",
            "Epoch 43/100\n",
            "1/1 [==============================] - 0s 14ms/step - loss: 2.0805 - mae: 2.0805\n",
            "Epoch 44/100\n",
            "1/1 [==============================] - 0s 19ms/step - loss: 1.5020 - mae: 1.5020\n",
            "Epoch 45/100\n",
            "1/1 [==============================] - 0s 10ms/step - loss: 0.4779 - mae: 0.4779\n",
            "Epoch 46/100\n",
            "1/1 [==============================] - 0s 14ms/step - loss: 1.8930 - mae: 1.8930\n",
            "Epoch 47/100\n",
            "1/1 [==============================] - 0s 20ms/step - loss: 1.7185 - mae: 1.7185\n",
            "Epoch 48/100\n",
            "1/1 [==============================] - 0s 9ms/step - loss: 0.4524 - mae: 0.4524\n",
            "Epoch 49/100\n",
            "1/1 [==============================] - 0s 12ms/step - loss: 1.5529 - mae: 1.5529\n",
            "Epoch 50/100\n",
            "1/1 [==============================] - 0s 9ms/step - loss: 2.0538 - mae: 2.0538\n",
            "Epoch 51/100\n",
            "1/1 [==============================] - 0s 12ms/step - loss: 1.6137 - mae: 1.6137\n",
            "Epoch 52/100\n",
            "1/1 [==============================] - 0s 10ms/step - loss: 0.4399 - mae: 0.4399\n",
            "Epoch 53/100\n",
            "1/1 [==============================] - 0s 15ms/step - loss: 1.8155 - mae: 1.8155\n",
            "Epoch 54/100\n",
            "1/1 [==============================] - 0s 12ms/step - loss: 2.2996 - mae: 2.2996\n",
            "Epoch 55/100\n",
            "1/1 [==============================] - 0s 10ms/step - loss: 1.4297 - mae: 1.4297\n",
            "Epoch 56/100\n",
            "1/1 [==============================] - 0s 13ms/step - loss: 0.4028 - mae: 0.4028\n",
            "Epoch 57/100\n",
            "1/1 [==============================] - 0s 18ms/step - loss: 1.3348 - mae: 1.3348\n",
            "Epoch 58/100\n",
            "1/1 [==============================] - 0s 30ms/step - loss: 1.3535 - mae: 1.3535\n",
            "Epoch 59/100\n",
            "1/1 [==============================] - 0s 19ms/step - loss: 0.5506 - mae: 0.5506\n",
            "Epoch 60/100\n",
            "1/1 [==============================] - 0s 29ms/step - loss: 1.2660 - mae: 1.2660\n",
            "Epoch 61/100\n",
            "1/1 [==============================] - 0s 17ms/step - loss: 1.8119 - mae: 1.8119\n",
            "Epoch 62/100\n",
            "1/1 [==============================] - 0s 22ms/step - loss: 1.3371 - mae: 1.3371\n",
            "Epoch 63/100\n",
            "1/1 [==============================] - 0s 33ms/step - loss: 0.2769 - mae: 0.2769\n",
            "Epoch 64/100\n",
            "1/1 [==============================] - 0s 22ms/step - loss: 0.9669 - mae: 0.9669\n",
            "Epoch 65/100\n",
            "1/1 [==============================] - 0s 19ms/step - loss: 0.9209 - mae: 0.9209\n",
            "Epoch 66/100\n",
            "1/1 [==============================] - 0s 25ms/step - loss: 0.2838 - mae: 0.2838\n",
            "Epoch 67/100\n",
            "1/1 [==============================] - 0s 16ms/step - loss: 0.8850 - mae: 0.8850\n",
            "Epoch 68/100\n",
            "1/1 [==============================] - 0s 15ms/step - loss: 0.8697 - mae: 0.8697\n",
            "Epoch 69/100\n",
            "1/1 [==============================] - 0s 23ms/step - loss: 0.3138 - mae: 0.3138\n",
            "Epoch 70/100\n",
            "1/1 [==============================] - 0s 30ms/step - loss: 0.8204 - mae: 0.8204\n",
            "Epoch 71/100\n",
            "1/1 [==============================] - 0s 18ms/step - loss: 0.6614 - mae: 0.6614\n",
            "Epoch 72/100\n",
            "1/1 [==============================] - 0s 19ms/step - loss: 0.3491 - mae: 0.3491\n",
            "Epoch 73/100\n",
            "1/1 [==============================] - 0s 21ms/step - loss: 0.4205 - mae: 0.4205\n",
            "Epoch 74/100\n",
            "1/1 [==============================] - 0s 20ms/step - loss: 0.6049 - mae: 0.6049\n",
            "Epoch 75/100\n",
            "1/1 [==============================] - 0s 13ms/step - loss: 0.6080 - mae: 0.6080\n",
            "Epoch 76/100\n",
            "1/1 [==============================] - 0s 17ms/step - loss: 0.2140 - mae: 0.2140\n",
            "Epoch 77/100\n",
            "1/1 [==============================] - 0s 10ms/step - loss: 0.7685 - mae: 0.7685\n",
            "Epoch 78/100\n",
            "1/1 [==============================] - 0s 18ms/step - loss: 0.5624 - mae: 0.5624\n",
            "Epoch 79/100\n",
            "1/1 [==============================] - 0s 30ms/step - loss: 0.4991 - mae: 0.4991\n",
            "Epoch 80/100\n",
            "1/1 [==============================] - 0s 17ms/step - loss: 0.5753 - mae: 0.5753\n",
            "Epoch 81/100\n",
            "1/1 [==============================] - 0s 21ms/step - loss: 0.2797 - mae: 0.2797\n",
            "Epoch 82/100\n",
            "1/1 [==============================] - 0s 14ms/step - loss: 0.7054 - mae: 0.7054\n",
            "Epoch 83/100\n",
            "1/1 [==============================] - 0s 25ms/step - loss: 0.3773 - mae: 0.3773\n",
            "Epoch 84/100\n",
            "1/1 [==============================] - 0s 34ms/step - loss: 0.6863 - mae: 0.6863\n",
            "Epoch 85/100\n",
            "1/1 [==============================] - 0s 20ms/step - loss: 0.8544 - mae: 0.8544\n",
            "Epoch 86/100\n",
            "1/1 [==============================] - 0s 9ms/step - loss: 0.3277 - mae: 0.3277\n",
            "Epoch 87/100\n",
            "1/1 [==============================] - 0s 17ms/step - loss: 0.7079 - mae: 0.7079\n",
            "Epoch 88/100\n",
            "1/1 [==============================] - 0s 9ms/step - loss: 0.7932 - mae: 0.7932\n",
            "Epoch 89/100\n",
            "1/1 [==============================] - 0s 10ms/step - loss: 0.2107 - mae: 0.2107\n",
            "Epoch 90/100\n",
            "1/1 [==============================] - 0s 12ms/step - loss: 1.1737 - mae: 1.1737\n",
            "Epoch 91/100\n",
            "1/1 [==============================] - 0s 10ms/step - loss: 1.6185 - mae: 1.6185\n",
            "Epoch 92/100\n",
            "1/1 [==============================] - 0s 11ms/step - loss: 1.4316 - mae: 1.4316\n",
            "Epoch 93/100\n",
            "1/1 [==============================] - 0s 12ms/step - loss: 0.6539 - mae: 0.6539\n",
            "Epoch 94/100\n",
            "1/1 [==============================] - 0s 10ms/step - loss: 0.8060 - mae: 0.8060\n",
            "Epoch 95/100\n",
            "1/1 [==============================] - 0s 11ms/step - loss: 1.3595 - mae: 1.3595\n",
            "Epoch 96/100\n",
            "1/1 [==============================] - 0s 14ms/step - loss: 1.1162 - mae: 1.1162\n",
            "Epoch 97/100\n",
            "1/1 [==============================] - 0s 16ms/step - loss: 0.1878 - mae: 0.1878\n",
            "Epoch 98/100\n",
            "1/1 [==============================] - 0s 32ms/step - loss: 0.9439 - mae: 0.9439\n",
            "Epoch 99/100\n",
            "1/1 [==============================] - 0s 15ms/step - loss: 1.2298 - mae: 1.2298\n",
            "Epoch 100/100\n",
            "1/1 [==============================] - 0s 17ms/step - loss: 1.0518 - mae: 1.0518\n"
          ]
        },
        {
          "output_type": "execute_result",
          "data": {
            "text/plain": [
              "<keras.callbacks.History at 0x7fd2a7bab040>"
            ]
          },
          "metadata": {},
          "execution_count": 20
        }
      ]
    },
    {
      "cell_type": "code",
      "source": [
        "model.predict([17.])"
      ],
      "metadata": {
        "colab": {
          "base_uri": "https://localhost:8080/"
        },
        "id": "-_SScVYNwO0A",
        "outputId": "28d76c21-3261-4004-d0de-4c94d4fc2516"
      },
      "execution_count": null,
      "outputs": [
        {
          "output_type": "stream",
          "name": "stdout",
          "text": [
            "1/1 [==============================] - 0s 271ms/step\n"
          ]
        },
        {
          "output_type": "execute_result",
          "data": {
            "text/plain": [
              "array([[26.866999]], dtype=float32)"
            ]
          },
          "metadata": {},
          "execution_count": 21
        }
      ]
    },
    {
      "cell_type": "markdown",
      "source": [
        "## evaluting a model \n",
        "1. the data - what data are we working with? What does it look like?\n",
        "2. the model itself - what does our model look like?\n",
        "3. the training the model - how does a model perform while it learns?\n",
        "4. the predictions of the module - how do the predictions of a model line up against the ground truth(the original labels)?"
      ],
      "metadata": {
        "id": "jv8ssc_SwZIk"
      }
    },
    {
      "cell_type": "code",
      "source": [
        "X = tf.range(-100,100,4)\n",
        "y = X + 10\n",
        "X, y"
      ],
      "metadata": {
        "colab": {
          "base_uri": "https://localhost:8080/"
        },
        "id": "pb2y7gHH1TXh",
        "outputId": "7a896a60-a6b2-4c6e-af01-2222719b2a3c"
      },
      "execution_count": null,
      "outputs": [
        {
          "output_type": "execute_result",
          "data": {
            "text/plain": [
              "(<tf.Tensor: shape=(50,), dtype=int32, numpy=\n",
              " array([-100,  -96,  -92,  -88,  -84,  -80,  -76,  -72,  -68,  -64,  -60,\n",
              "         -56,  -52,  -48,  -44,  -40,  -36,  -32,  -28,  -24,  -20,  -16,\n",
              "         -12,   -8,   -4,    0,    4,    8,   12,   16,   20,   24,   28,\n",
              "          32,   36,   40,   44,   48,   52,   56,   60,   64,   68,   72,\n",
              "          76,   80,   84,   88,   92,   96], dtype=int32)>,\n",
              " <tf.Tensor: shape=(50,), dtype=int32, numpy=\n",
              " array([-90, -86, -82, -78, -74, -70, -66, -62, -58, -54, -50, -46, -42,\n",
              "        -38, -34, -30, -26, -22, -18, -14, -10,  -6,  -2,   2,   6,  10,\n",
              "         14,  18,  22,  26,  30,  34,  38,  42,  46,  50,  54,  58,  62,\n",
              "         66,  70,  74,  78,  82,  86,  90,  94,  98, 102, 106], dtype=int32)>)"
            ]
          },
          "metadata": {},
          "execution_count": 22
        }
      ]
    },
    {
      "cell_type": "code",
      "source": [
        "X_train = X[:40]\n",
        "X_train,len(X_train)"
      ],
      "metadata": {
        "colab": {
          "base_uri": "https://localhost:8080/"
        },
        "id": "WTdC0aKg2RDo",
        "outputId": "095e6e2b-3942-4723-d556-856aaab1040d"
      },
      "execution_count": null,
      "outputs": [
        {
          "output_type": "execute_result",
          "data": {
            "text/plain": [
              "(<tf.Tensor: shape=(40,), dtype=int32, numpy=\n",
              " array([-100,  -96,  -92,  -88,  -84,  -80,  -76,  -72,  -68,  -64,  -60,\n",
              "         -56,  -52,  -48,  -44,  -40,  -36,  -32,  -28,  -24,  -20,  -16,\n",
              "         -12,   -8,   -4,    0,    4,    8,   12,   16,   20,   24,   28,\n",
              "          32,   36,   40,   44,   48,   52,   56], dtype=int32)>, 40)"
            ]
          },
          "metadata": {},
          "execution_count": 23
        }
      ]
    },
    {
      "cell_type": "code",
      "source": [
        "y_train = y[:40]\n",
        "y_train,len(y_train)"
      ],
      "metadata": {
        "colab": {
          "base_uri": "https://localhost:8080/"
        },
        "id": "-ok4Gb7i209p",
        "outputId": "fc361f7a-eaa8-41a8-8b91-84b6c22c66ae"
      },
      "execution_count": null,
      "outputs": [
        {
          "output_type": "execute_result",
          "data": {
            "text/plain": [
              "(<tf.Tensor: shape=(40,), dtype=int32, numpy=\n",
              " array([-90, -86, -82, -78, -74, -70, -66, -62, -58, -54, -50, -46, -42,\n",
              "        -38, -34, -30, -26, -22, -18, -14, -10,  -6,  -2,   2,   6,  10,\n",
              "         14,  18,  22,  26,  30,  34,  38,  42,  46,  50,  54,  58,  62,\n",
              "         66], dtype=int32)>, 40)"
            ]
          },
          "metadata": {},
          "execution_count": 24
        }
      ]
    },
    {
      "cell_type": "code",
      "source": [
        "X_test = X[40:]\n",
        "X_test, len(X_test)"
      ],
      "metadata": {
        "colab": {
          "base_uri": "https://localhost:8080/"
        },
        "id": "9d9wg2ST3j3o",
        "outputId": "e27ad546-77ca-4ba8-f4f3-8f13bce8238b"
      },
      "execution_count": null,
      "outputs": [
        {
          "output_type": "execute_result",
          "data": {
            "text/plain": [
              "(<tf.Tensor: shape=(10,), dtype=int32, numpy=array([60, 64, 68, 72, 76, 80, 84, 88, 92, 96], dtype=int32)>,\n",
              " 10)"
            ]
          },
          "metadata": {},
          "execution_count": 25
        }
      ]
    },
    {
      "cell_type": "code",
      "source": [
        "y_test = y[40:]\n",
        "y_test, len(y_test)"
      ],
      "metadata": {
        "colab": {
          "base_uri": "https://localhost:8080/"
        },
        "id": "Kmc0Wifk3s1O",
        "outputId": "8db9db78-49f7-4b23-c437-01e54bdd6877"
      },
      "execution_count": null,
      "outputs": [
        {
          "output_type": "execute_result",
          "data": {
            "text/plain": [
              "(<tf.Tensor: shape=(10,), dtype=int32, numpy=array([ 70,  74,  78,  82,  86,  90,  94,  98, 102, 106], dtype=int32)>,\n",
              " 10)"
            ]
          },
          "metadata": {},
          "execution_count": 26
        }
      ]
    },
    {
      "cell_type": "code",
      "source": [
        "import matplotlib.pyplot as plt\n",
        "plt.plot(X_train,y_train)"
      ],
      "metadata": {
        "colab": {
          "base_uri": "https://localhost:8080/",
          "height": 282
        },
        "id": "oORoHNQO38RQ",
        "outputId": "fb30f3f6-7698-4508-d13a-748b4a84c81c"
      },
      "execution_count": null,
      "outputs": [
        {
          "output_type": "execute_result",
          "data": {
            "text/plain": [
              "[<matplotlib.lines.Line2D at 0x7fd2a7c0b160>]"
            ]
          },
          "metadata": {},
          "execution_count": 27
        },
        {
          "output_type": "display_data",
          "data": {
            "text/plain": [
              "<Figure size 432x288 with 1 Axes>"
            ],
            "image/png": "[encoded data removed]"
          },
          "metadata": {
            "needs_background": "light"
          }
        }
      ]
    },
    {
      "cell_type": "code",
      "source": [
        "plt.plot(X_test,y_test)"
      ],
      "metadata": {
        "colab": {
          "base_uri": "https://localhost:8080/",
          "height": 282
        },
        "id": "EOzdjB2Q4GAo",
        "outputId": "27f90d92-f930-4f9a-acb8-6b905a74f10c"
      },
      "execution_count": null,
      "outputs": [
        {
          "output_type": "execute_result",
          "data": {
            "text/plain": [
              "[<matplotlib.lines.Line2D at 0x7fd2a7526160>]"
            ]
          },
          "metadata": {},
          "execution_count": 28
        },
        {
          "output_type": "display_data",
          "data": {
            "text/plain": [
              "<Figure size 432x288 with 1 Axes>"
            ],
            "image/png": "[encoded data removed]"
          },
          "metadata": {
            "needs_background": "light"
          }
        }
      ]
    },
    {
      "cell_type": "markdown",
      "source": [
        "* each and every time we fit the model the model gets trained for another 100 epochs\n",
        "* verbose is also another parameter used in fit to show the progress\n",
        "* no or nuerons or units are the output of the particular layer"
      ],
      "metadata": {
        "id": "iEb3ZYeaTS6h"
      }
    },
    {
      "cell_type": "code",
      "source": [
        "# creating a model with full data set\n",
        "\n",
        "# create a model\n",
        "model = tf.keras.Sequential([\n",
        "    tf.keras.layers.Dense(1,input_shape = [1])\n",
        "])\n",
        "\n",
        "# compile the model\n",
        "model.compile(loss = [\"mae\"],\n",
        "              optimizer = tf.keras.optimizers.Adam(lr = 0.1),\n",
        "              metrics = [\"mae\"])\n",
        "\n",
        "# fit the model\n",
        "model.fit(tf.expand_dims(X_train,axis = -1),y_train,epochs = 100) # tf.expanded is not needed when we use input_shape or any other build functions"
      ],
      "metadata": {
        "id": "VH0xB0GB4ba7",
        "colab": {
          "base_uri": "https://localhost:8080/"
        },
        "outputId": "9ec1cd6d-534a-41cf-ccb3-51bdc05ea76e"
      },
      "execution_count": null,
      "outputs": [
        {
          "output_type": "stream",
          "name": "stdout",
          "text": [
            "Epoch 1/100\n"
          ]
        },
        {
          "output_type": "stream",
          "name": "stderr",
          "text": [
            "/usr/local/lib/python3.8/dist-packages/keras/optimizers/optimizer_v2/adam.py:110: UserWarning: The `lr` argument is deprecated, use `learning_rate` instead.\n",
            "  super(Adam, self).__init__(name, **kwargs)\n"
          ]
        },
        {
          "output_type": "stream",
          "name": "stdout",
          "text": [
            "2/2 [==============================] - 1s 8ms/step - loss: 93.0769 - mae: 93.0769\n",
            "Epoch 2/100\n",
            "2/2 [==============================] - 0s 8ms/step - loss: 84.3049 - mae: 84.3049\n",
            "Epoch 3/100\n",
            "2/2 [==============================] - 0s 8ms/step - loss: 75.8354 - mae: 75.8354\n",
            "Epoch 4/100\n",
            "2/2 [==============================] - 0s 12ms/step - loss: 67.2264 - mae: 67.2264\n",
            "Epoch 5/100\n",
            "2/2 [==============================] - 0s 9ms/step - loss: 58.7752 - mae: 58.7752\n",
            "Epoch 6/100\n",
            "2/2 [==============================] - 0s 7ms/step - loss: 50.2874 - mae: 50.2874\n",
            "Epoch 7/100\n",
            "2/2 [==============================] - 0s 5ms/step - loss: 41.7770 - mae: 41.7770\n",
            "Epoch 8/100\n",
            "2/2 [==============================] - 0s 7ms/step - loss: 33.0283 - mae: 33.0283\n",
            "Epoch 9/100\n",
            "2/2 [==============================] - 0s 6ms/step - loss: 24.9732 - mae: 24.9732\n",
            "Epoch 10/100\n",
            "2/2 [==============================] - 0s 7ms/step - loss: 17.3195 - mae: 17.3195\n",
            "Epoch 11/100\n",
            "2/2 [==============================] - 0s 7ms/step - loss: 10.3922 - mae: 10.3922\n",
            "Epoch 12/100\n",
            "2/2 [==============================] - 0s 5ms/step - loss: 10.1054 - mae: 10.1054\n",
            "Epoch 13/100\n",
            "2/2 [==============================] - 0s 9ms/step - loss: 12.8856 - mae: 12.8856\n",
            "Epoch 14/100\n",
            "2/2 [==============================] - 0s 15ms/step - loss: 14.2978 - mae: 14.2978\n",
            "Epoch 15/100\n",
            "2/2 [==============================] - 0s 5ms/step - loss: 14.8517 - mae: 14.8517\n",
            "Epoch 16/100\n",
            "2/2 [==============================] - 0s 6ms/step - loss: 14.7883 - mae: 14.7883\n",
            "Epoch 17/100\n",
            "2/2 [==============================] - 0s 8ms/step - loss: 14.1741 - mae: 14.1741\n",
            "Epoch 18/100\n",
            "2/2 [==============================] - 0s 8ms/step - loss: 12.8235 - mae: 12.8235\n",
            "Epoch 19/100\n",
            "2/2 [==============================] - 0s 28ms/step - loss: 11.3500 - mae: 11.3500\n",
            "Epoch 20/100\n",
            "2/2 [==============================] - 0s 7ms/step - loss: 9.4951 - mae: 9.4951\n",
            "Epoch 21/100\n",
            "2/2 [==============================] - 0s 13ms/step - loss: 7.3842 - mae: 7.3842\n",
            "Epoch 22/100\n",
            "2/2 [==============================] - 0s 16ms/step - loss: 8.0821 - mae: 8.0821\n",
            "Epoch 23/100\n",
            "2/2 [==============================] - 0s 8ms/step - loss: 9.3425 - mae: 9.3425\n",
            "Epoch 24/100\n",
            "2/2 [==============================] - 0s 22ms/step - loss: 9.3313 - mae: 9.3313\n",
            "Epoch 25/100\n",
            "2/2 [==============================] - 0s 6ms/step - loss: 8.1709 - mae: 8.1709\n",
            "Epoch 26/100\n",
            "2/2 [==============================] - 0s 15ms/step - loss: 6.6216 - mae: 6.6216\n",
            "Epoch 27/100\n",
            "2/2 [==============================] - 0s 11ms/step - loss: 6.9733 - mae: 6.9733\n",
            "Epoch 28/100\n",
            "2/2 [==============================] - 0s 17ms/step - loss: 7.3110 - mae: 7.3110\n",
            "Epoch 29/100\n",
            "2/2 [==============================] - 0s 12ms/step - loss: 6.8871 - mae: 6.8871\n",
            "Epoch 30/100\n",
            "2/2 [==============================] - 0s 16ms/step - loss: 5.9083 - mae: 5.9083\n",
            "Epoch 31/100\n",
            "2/2 [==============================] - 0s 19ms/step - loss: 5.9981 - mae: 5.9981\n",
            "Epoch 32/100\n",
            "2/2 [==============================] - 0s 13ms/step - loss: 6.1683 - mae: 6.1683\n",
            "Epoch 33/100\n",
            "2/2 [==============================] - 0s 7ms/step - loss: 5.6954 - mae: 5.6954\n",
            "Epoch 34/100\n",
            "2/2 [==============================] - 0s 11ms/step - loss: 5.3140 - mae: 5.3140\n",
            "Epoch 35/100\n",
            "2/2 [==============================] - 0s 6ms/step - loss: 5.8532 - mae: 5.8532\n",
            "Epoch 36/100\n",
            "2/2 [==============================] - 0s 8ms/step - loss: 5.6023 - mae: 5.6023\n",
            "Epoch 37/100\n",
            "2/2 [==============================] - 0s 15ms/step - loss: 4.7884 - mae: 4.7884\n",
            "Epoch 38/100\n",
            "2/2 [==============================] - 0s 7ms/step - loss: 5.0015 - mae: 5.0015\n",
            "Epoch 39/100\n",
            "2/2 [==============================] - 0s 5ms/step - loss: 4.9110 - mae: 4.9110\n",
            "Epoch 40/100\n",
            "2/2 [==============================] - 0s 6ms/step - loss: 4.3865 - mae: 4.3865\n",
            "Epoch 41/100\n",
            "2/2 [==============================] - 0s 7ms/step - loss: 4.3793 - mae: 4.3793\n",
            "Epoch 42/100\n",
            "2/2 [==============================] - 0s 6ms/step - loss: 4.2082 - mae: 4.2082\n",
            "Epoch 43/100\n",
            "2/2 [==============================] - 0s 11ms/step - loss: 3.9869 - mae: 3.9869\n",
            "Epoch 44/100\n",
            "2/2 [==============================] - 0s 8ms/step - loss: 3.9491 - mae: 3.9491\n",
            "Epoch 45/100\n",
            "2/2 [==============================] - 0s 12ms/step - loss: 3.6726 - mae: 3.6726\n",
            "Epoch 46/100\n",
            "2/2 [==============================] - 0s 13ms/step - loss: 3.4858 - mae: 3.4858\n",
            "Epoch 47/100\n",
            "2/2 [==============================] - 0s 7ms/step - loss: 3.3402 - mae: 3.3402\n",
            "Epoch 48/100\n",
            "2/2 [==============================] - 0s 9ms/step - loss: 3.1710 - mae: 3.1710\n",
            "Epoch 49/100\n",
            "2/2 [==============================] - 0s 9ms/step - loss: 3.0211 - mae: 3.0211\n",
            "Epoch 50/100\n",
            "2/2 [==============================] - 0s 5ms/step - loss: 2.8523 - mae: 2.8523\n",
            "Epoch 51/100\n",
            "2/2 [==============================] - 0s 4ms/step - loss: 2.7801 - mae: 2.7801\n",
            "Epoch 52/100\n",
            "2/2 [==============================] - 0s 5ms/step - loss: 2.6395 - mae: 2.6395\n",
            "Epoch 53/100\n",
            "2/2 [==============================] - 0s 4ms/step - loss: 2.4251 - mae: 2.4251\n",
            "Epoch 54/100\n",
            "2/2 [==============================] - 0s 5ms/step - loss: 2.6155 - mae: 2.6155\n",
            "Epoch 55/100\n",
            "2/2 [==============================] - 0s 4ms/step - loss: 2.3810 - mae: 2.3810\n",
            "Epoch 56/100\n",
            "2/2 [==============================] - 0s 5ms/step - loss: 2.3038 - mae: 2.3038\n",
            "Epoch 57/100\n",
            "2/2 [==============================] - 0s 5ms/step - loss: 2.5372 - mae: 2.5372\n",
            "Epoch 58/100\n",
            "2/2 [==============================] - 0s 9ms/step - loss: 2.1301 - mae: 2.1301\n",
            "Epoch 59/100\n",
            "2/2 [==============================] - 0s 6ms/step - loss: 1.5464 - mae: 1.5464\n",
            "Epoch 60/100\n",
            "2/2 [==============================] - 0s 11ms/step - loss: 2.0164 - mae: 2.0164\n",
            "Epoch 61/100\n",
            "2/2 [==============================] - 0s 11ms/step - loss: 1.3547 - mae: 1.3547\n",
            "Epoch 62/100\n",
            "2/2 [==============================] - 0s 12ms/step - loss: 1.5586 - mae: 1.5586\n",
            "Epoch 63/100\n",
            "2/2 [==============================] - 0s 5ms/step - loss: 1.2382 - mae: 1.2382\n",
            "Epoch 64/100\n",
            "2/2 [==============================] - 0s 5ms/step - loss: 1.2685 - mae: 1.2685\n",
            "Epoch 65/100\n",
            "2/2 [==============================] - 0s 7ms/step - loss: 1.0491 - mae: 1.0491\n",
            "Epoch 66/100\n",
            "2/2 [==============================] - 0s 19ms/step - loss: 0.9947 - mae: 0.9947\n",
            "Epoch 67/100\n",
            "2/2 [==============================] - 0s 10ms/step - loss: 0.8174 - mae: 0.8174\n",
            "Epoch 68/100\n",
            "2/2 [==============================] - 0s 15ms/step - loss: 1.3121 - mae: 1.3121\n",
            "Epoch 69/100\n",
            "2/2 [==============================] - 0s 8ms/step - loss: 1.2156 - mae: 1.2156\n",
            "Epoch 70/100\n",
            "2/2 [==============================] - 0s 35ms/step - loss: 1.0354 - mae: 1.0354\n",
            "Epoch 71/100\n",
            "2/2 [==============================] - 0s 6ms/step - loss: 1.1439 - mae: 1.1439\n",
            "Epoch 72/100\n",
            "2/2 [==============================] - 0s 4ms/step - loss: 0.9635 - mae: 0.9635\n",
            "Epoch 73/100\n",
            "2/2 [==============================] - 0s 10ms/step - loss: 1.1539 - mae: 1.1539\n",
            "Epoch 74/100\n",
            "2/2 [==============================] - 0s 9ms/step - loss: 0.9074 - mae: 0.9074\n",
            "Epoch 75/100\n",
            "2/2 [==============================] - 0s 7ms/step - loss: 1.3825 - mae: 1.3825\n",
            "Epoch 76/100\n",
            "2/2 [==============================] - 0s 5ms/step - loss: 0.4954 - mae: 0.4954\n",
            "Epoch 77/100\n",
            "2/2 [==============================] - 0s 7ms/step - loss: 0.8164 - mae: 0.8164\n",
            "Epoch 78/100\n",
            "2/2 [==============================] - 0s 6ms/step - loss: 0.8282 - mae: 0.8282\n",
            "Epoch 79/100\n",
            "2/2 [==============================] - 0s 8ms/step - loss: 0.5740 - mae: 0.5740\n",
            "Epoch 80/100\n",
            "2/2 [==============================] - 0s 5ms/step - loss: 0.3888 - mae: 0.3888\n",
            "Epoch 81/100\n",
            "2/2 [==============================] - 0s 7ms/step - loss: 0.1905 - mae: 0.1905\n",
            "Epoch 82/100\n",
            "2/2 [==============================] - 0s 15ms/step - loss: 0.6035 - mae: 0.6035\n",
            "Epoch 83/100\n",
            "2/2 [==============================] - 0s 5ms/step - loss: 0.5157 - mae: 0.5157\n",
            "Epoch 84/100\n",
            "2/2 [==============================] - 0s 10ms/step - loss: 0.3483 - mae: 0.3483\n",
            "Epoch 85/100\n",
            "2/2 [==============================] - 0s 8ms/step - loss: 0.4207 - mae: 0.4207\n",
            "Epoch 86/100\n",
            "2/2 [==============================] - 0s 8ms/step - loss: 0.1792 - mae: 0.1792\n",
            "Epoch 87/100\n",
            "2/2 [==============================] - 0s 9ms/step - loss: 0.2708 - mae: 0.2708\n",
            "Epoch 88/100\n",
            "2/2 [==============================] - 0s 15ms/step - loss: 0.3716 - mae: 0.3716\n",
            "Epoch 89/100\n",
            "2/2 [==============================] - 0s 6ms/step - loss: 0.3325 - mae: 0.3325\n",
            "Epoch 90/100\n",
            "2/2 [==============================] - 0s 4ms/step - loss: 0.1512 - mae: 0.1512\n",
            "Epoch 91/100\n",
            "2/2 [==============================] - 0s 10ms/step - loss: 0.1732 - mae: 0.1732\n",
            "Epoch 92/100\n",
            "2/2 [==============================] - 0s 17ms/step - loss: 0.4059 - mae: 0.4059\n",
            "Epoch 93/100\n",
            "2/2 [==============================] - 0s 10ms/step - loss: 0.3546 - mae: 0.3546\n",
            "Epoch 94/100\n",
            "2/2 [==============================] - 0s 9ms/step - loss: 0.1111 - mae: 0.1111\n",
            "Epoch 95/100\n",
            "2/2 [==============================] - 0s 6ms/step - loss: 0.1553 - mae: 0.1553\n",
            "Epoch 96/100\n",
            "2/2 [==============================] - 0s 9ms/step - loss: 0.2254 - mae: 0.2254\n",
            "Epoch 97/100\n",
            "2/2 [==============================] - 0s 6ms/step - loss: 0.8716 - mae: 0.8716\n",
            "Epoch 98/100\n",
            "2/2 [==============================] - 0s 9ms/step - loss: 0.6084 - mae: 0.6084\n",
            "Epoch 99/100\n",
            "2/2 [==============================] - 0s 11ms/step - loss: 0.2557 - mae: 0.2557\n",
            "Epoch 100/100\n",
            "2/2 [==============================] - 0s 7ms/step - loss: 0.1495 - mae: 0.1495\n"
          ]
        },
        {
          "output_type": "execute_result",
          "data": {
            "text/plain": [
              "<keras.callbacks.History at 0x7fd2a4af2100>"
            ]
          },
          "metadata": {},
          "execution_count": 29
        }
      ]
    },
    {
      "cell_type": "code",
      "source": [
        "X_test = tf.expand_dims(X_test,axis = -1)\n",
        "X_test"
      ],
      "metadata": {
        "colab": {
          "base_uri": "https://localhost:8080/"
        },
        "id": "pBw-d5If6FGf",
        "outputId": "c4c92c49-d066-40bc-ce82-e41a24ad4f8b"
      },
      "execution_count": null,
      "outputs": [
        {
          "output_type": "execute_result",
          "data": {
            "text/plain": [
              "<tf.Tensor: shape=(10, 1), dtype=int32, numpy=\n",
              "array([[60],\n",
              "       [64],\n",
              "       [68],\n",
              "       [72],\n",
              "       [76],\n",
              "       [80],\n",
              "       [84],\n",
              "       [88],\n",
              "       [92],\n",
              "       [96]], dtype=int32)>"
            ]
          },
          "metadata": {},
          "execution_count": 30
        }
      ]
    },
    {
      "cell_type": "code",
      "source": [
        "y_pred = tf.squeeze(tf.constant(model.predict(X_test)))\n",
        "y_pred"
      ],
      "metadata": {
        "colab": {
          "base_uri": "https://localhost:8080/"
        },
        "id": "3j0naeEA6cr9",
        "outputId": "0f41bf71-7fed-4e32-e124-9ea4675ce753"
      },
      "execution_count": null,
      "outputs": [
        {
          "output_type": "stream",
          "name": "stderr",
          "text": [
            "WARNING:tensorflow:5 out of the last 5 calls to <function Model.make_predict_function.<locals>.predict_function at 0x7fd2a4ae4e50> triggered tf.function retracing. Tracing is expensive and the excessive number of tracings could be due to (1) creating @tf.function repeatedly in a loop, (2) passing tensors with different shapes, (3) passing Python objects instead of tensors. For (1), please define your @tf.function outside of the loop. For (2), @tf.function has reduce_retracing=True option that can avoid unnecessary retracing. For (3), please refer to https://www.tensorflow.org/guide/function#controlling_retracing and https://www.tensorflow.org/api_docs/python/tf/function for  more details.\n"
          ]
        },
        {
          "output_type": "stream",
          "name": "stdout",
          "text": [
            "1/1 [==============================] - 0s 65ms/step\n"
          ]
        },
        {
          "output_type": "execute_result",
          "data": {
            "text/plain": [
              "<tf.Tensor: shape=(10,), dtype=float32, numpy=\n",
              "array([ 70.31457 ,  74.333885,  78.3532  ,  82.37252 ,  86.39184 ,\n",
              "        90.411156,  94.430466,  98.44978 , 102.4691  , 106.48842 ],\n",
              "      dtype=float32)>"
            ]
          },
          "metadata": {},
          "execution_count": 31
        }
      ]
    },
    {
      "cell_type": "code",
      "source": [
        "len(y_pred) == len(y_test)"
      ],
      "metadata": {
        "colab": {
          "base_uri": "https://localhost:8080/"
        },
        "id": "kdaPoQX39fuo",
        "outputId": "b8c50dd1-7481-4ce5-e6f0-a6c1f9cef301"
      },
      "execution_count": null,
      "outputs": [
        {
          "output_type": "execute_result",
          "data": {
            "text/plain": [
              "True"
            ]
          },
          "metadata": {},
          "execution_count": 32
        }
      ]
    },
    {
      "cell_type": "code",
      "source": [
        "# plotting the predicted values with the actual values\n",
        "plt.plot(X_test,y_test,color = \"yellow\",label = \"true values\")\n",
        "plt.plot(X_test,y_pred,color = \"red\",label = \"predicted values\")\n",
        "plt.title(\"true values vs predicted values\")\n",
        "plt.legend();"
      ],
      "metadata": {
        "colab": {
          "base_uri": "https://localhost:8080/",
          "height": 281
        },
        "id": "m4i7yids9jfg",
        "outputId": "5846bee7-969f-4cb4-e88d-d0784245fe09"
      },
      "execution_count": null,
      "outputs": [
        {
          "output_type": "display_data",
          "data": {
            "text/plain": [
              "<Figure size 432x288 with 1 Axes>"
            ],
            "image/png": "[encoded data removed]"
          },
          "metadata": {
            "needs_background": "light"
          }
        }
      ]
    },
    {
      "cell_type": "code",
      "source": [
        "# plotting with scatter plot\n",
        "plt.scatter(X_test,y_test,color = \"red\", label = \"true values\")\n",
        "plt.scatter(X_test,y_pred,color = \"blue\",label = \"predicted values\")\n",
        "plt.title(\"scatter plot for true values vs predicted values\")\n",
        "plt.legend();"
      ],
      "metadata": {
        "colab": {
          "base_uri": "https://localhost:8080/",
          "height": 281
        },
        "id": "j5HYAd7Q-Oev",
        "outputId": "ff99583b-55f4-4201-ec60-a50768e138ee"
      },
      "execution_count": null,
      "outputs": [
        {
          "output_type": "display_data",
          "data": {
            "text/plain": [
              "<Figure size 432x288 with 1 Axes>"
            ],
            "image/png": "[encoded data removed]"
          },
          "metadata": {
            "needs_background": "light"
          }
        }
      ]
    },
    {
      "cell_type": "code",
      "source": [
        "plt.plot(X_test,y_test,color = \"yellow\")"
      ],
      "metadata": {
        "id": "flxzPCNB-3u5",
        "colab": {
          "base_uri": "https://localhost:8080/",
          "height": 282
        },
        "outputId": "25925d5e-edc3-45b3-84b4-d01baf81b9ca"
      },
      "execution_count": null,
      "outputs": [
        {
          "output_type": "execute_result",
          "data": {
            "text/plain": [
              "[<matplotlib.lines.Line2D at 0x7fd2a497ecd0>]"
            ]
          },
          "metadata": {},
          "execution_count": 35
        },
        {
          "output_type": "display_data",
          "data": {
            "text/plain": [
              "<Figure size 432x288 with 1 Axes>"
            ],
            "image/png": "[encoded data removed]"
          },
          "metadata": {
            "needs_background": "light"
          }
        }
      ]
    },
    {
      "cell_type": "markdown",
      "source": [
        "### the 3 sets...\n",
        "1. training set - the model learns from this data\n",
        "2. validation set - the model gets tuned on this data\n",
        "3. test set - to test what it has learned"
      ],
      "metadata": {
        "id": "fHxPCxl96xgf"
      }
    },
    {
      "cell_type": "code",
      "source": [
        "# plotting\n",
        "plt.figure(figsize = (10,7))\n",
        "plt.scatter(X_train,y_train,c = \"b\",label = \"training data\")\n",
        "plt.scatter(X_test,y_test,c = \"g\",label = \"Testing data\")\n",
        "plt.legend();"
      ],
      "metadata": {
        "colab": {
          "base_uri": "https://localhost:8080/",
          "height": 428
        },
        "id": "X36IKOGw8RFP",
        "outputId": "2b79d972-419d-4eca-dd07-84a1dc029b28"
      },
      "execution_count": null,
      "outputs": [
        {
          "output_type": "display_data",
          "data": {
            "text/plain": [
              "<Figure size 720x504 with 1 Axes>"
            ],
            "image/png": "[encoded data removed]"
          },
          "metadata": {
            "needs_background": "light"
          }
        }
      ]
    },
    {
      "cell_type": "code",
      "source": [
        "# evaluate the model on the test\n",
        "model.evaluate(X_test,y_test)"
      ],
      "metadata": {
        "colab": {
          "base_uri": "https://localhost:8080/"
        },
        "id": "89IW-MihECLI",
        "outputId": "fd8c7e4d-f8b8-40b6-ff2b-6cfbf7c10087"
      },
      "execution_count": null,
      "outputs": [
        {
          "output_type": "stream",
          "name": "stdout",
          "text": [
            "1/1 [==============================] - 0s 317ms/step - loss: 0.4015 - mae: 0.4015\n"
          ]
        },
        {
          "output_type": "execute_result",
          "data": {
            "text/plain": [
              "[0.4014938473701477, 0.4014938473701477]"
            ]
          },
          "metadata": {},
          "execution_count": 37
        }
      ]
    },
    {
      "cell_type": "markdown",
      "source": [
        "In order to use summary we should build the model with model.build() or specify the input shape in one layer or fit the model to the inputs"
      ],
      "metadata": {
        "id": "aSYurj4awaKo"
      }
    },
    {
      "cell_type": "code",
      "source": [
        "# visualize model\n",
        "model.summary()"
      ],
      "metadata": {
        "colab": {
          "base_uri": "https://localhost:8080/"
        },
        "id": "eTTuVnLz8xZq",
        "outputId": "cb429980-b44c-4000-fe4f-0f0e6f988093"
      },
      "execution_count": null,
      "outputs": [
        {
          "output_type": "stream",
          "name": "stdout",
          "text": [
            "Model: \"sequential_4\"\n",
            "_________________________________________________________________\n",
            " Layer (type)                Output Shape              Param #   \n",
            "=================================================================\n",
            " dense_7 (Dense)             (None, 1)                 2         \n",
            "                                                                 \n",
            "=================================================================\n",
            "Total params: 2\n",
            "Trainable params: 2\n",
            "Non-trainable params: 0\n",
            "_________________________________________________________________\n"
          ]
        }
      ]
    },
    {
      "cell_type": "markdown",
      "source": [
        "1. total params = total number of parameters in the model\n",
        "2. trainable params = these are the parameters (patterns) the model can update as it trains\n",
        "3. non-trainable params = theses parameters arent updated during training (these are the parameters from other model during transfer learning)"
      ],
      "metadata": {
        "id": "x2O36SZADNvF"
      }
    },
    {
      "cell_type": "markdown",
      "source": [
        "### another way to visualize model"
      ],
      "metadata": {
        "id": "6r1KMPzgShn6"
      }
    },
    {
      "cell_type": "code",
      "source": [
        "from tensorflow.keras.utils import plot_model\n",
        "\n",
        "plot_model(model = model, show_shapes = True)"
      ],
      "metadata": {
        "colab": {
          "base_uri": "https://localhost:8080/",
          "height": 201
        },
        "id": "4oAkQsNRSkfk",
        "outputId": "c0f017a8-1a72-43b5-ec73-a19cabb80441"
      },
      "execution_count": null,
      "outputs": [
        {
          "output_type": "execute_result",
          "data": {
            "image/png": "[encoded data removed]",
            "text/plain": [
              "<IPython.core.display.Image object>"
            ]
          },
          "metadata": {},
          "execution_count": 39
        }
      ]
    },
    {
      "cell_type": "code",
      "source": [
        "# to change the layer name\n",
        "# tf.keras.layers.Dense(10,name = \"layername\") just add name parameter and change the name"
      ],
      "metadata": {
        "id": "qsdvhBbzakX5"
      },
      "execution_count": null,
      "outputs": []
    },
    {
      "cell_type": "code",
      "source": [
        "# creating a plotting function\n",
        "def plot_predictions(train_data = X_train,\n",
        "                     train_labels = y_train,\n",
        "                     test_data = X_test,\n",
        "                     test_labels = y_test,\n",
        "                     predictions = y_pred):\n",
        "  plt.figure(figsize = (10,7))\n",
        "  plt.scatter(train_data,train_labels, c = \"b\",label = \"training data\")\n",
        "  plt.scatter(test_data,test_labels, c = \"g\", label = \"testing data\")\n",
        "  plt.scatter(test_data,y_pred,c = \"r\",label = \"predictions\")\n",
        "  plt.title(\"plot to compare the values\")\n",
        "  plt.legend();"
      ],
      "metadata": {
        "id": "DP_fbNuN2s1F"
      },
      "execution_count": null,
      "outputs": []
    },
    {
      "cell_type": "code",
      "source": [
        "plot_predictions()"
      ],
      "metadata": {
        "colab": {
          "base_uri": "https://localhost:8080/",
          "height": 444
        },
        "id": "aOtCla6u4WeY",
        "outputId": "c15f7749-6249-475a-930c-aaa1c5169cec"
      },
      "execution_count": null,
      "outputs": [
        {
          "output_type": "display_data",
          "data": {
            "text/plain": [
              "<Figure size 720x504 with 1 Axes>"
            ],
            "image/png": "[encoded data removed]"
          },
          "metadata": {
            "needs_background": "light"
          }
        }
      ]
    },
    {
      "cell_type": "markdown",
      "source": [
        "## evaluting our models prediction with regression evaluation metrics\n",
        "depending the type of the problem there are different metrics.use - a great started metric for any regression problem\n",
        "1. mae  = mean absolute error, tells how wrong is each of model's predictions. use - when larger errors are significant than smaller errors\n",
        "2. mse = mean square error, tells the square of average errors. use - combination of mse and mae less sensitive to outlier mse"
      ],
      "metadata": {
        "id": "h9YWiPm081Bu"
      }
    },
    {
      "cell_type": "markdown",
      "source": [
        "* mae\n",
        "  1. tf.keras.losses.MAE()\n",
        "  2. tf.metrics.mean_absolute_error()\n",
        "* mse\n",
        "  1. tf.keras.losses.MSE()\n",
        "  2. tf.keras.mean_square_error()\n",
        "* these calculates metrics for each and every element but if you want to find the mean of the metrics we have to use tf.math.reduce_mean() to find the mean of the metrics (or) change the shape both y_true and y_pred must be of the same shape"
      ],
      "metadata": {
        "id": "GFLBH957PJlf"
      }
    },
    {
      "cell_type": "code",
      "source": [
        "# evaluate the model on the test (ie) this method executes the metric used in the model\n",
        "model.evaluate(X_test,y_test)"
      ],
      "metadata": {
        "colab": {
          "base_uri": "https://localhost:8080/"
        },
        "id": "TYCg7tHo_rz0",
        "outputId": "26158690-f293-45a0-976b-217601f1479c"
      },
      "execution_count": null,
      "outputs": [
        {
          "output_type": "stream",
          "name": "stdout",
          "text": [
            "1/1 [==============================] - 0s 33ms/step - loss: 0.4015 - mae: 0.4015\n"
          ]
        },
        {
          "output_type": "execute_result",
          "data": {
            "text/plain": [
              "[0.4014938473701477, 0.4014938473701477]"
            ]
          },
          "metadata": {},
          "execution_count": 43
        }
      ]
    },
    {
      "cell_type": "code",
      "source": [
        "# calculate the mae\n",
        "tf.metrics.mean_absolute_error(y_test,y_pred)"
      ],
      "metadata": {
        "colab": {
          "base_uri": "https://localhost:8080/"
        },
        "id": "bwiyrm3KRGOT",
        "outputId": "74211902-11d6-479f-cb94-5b24cfdd6fa9"
      },
      "execution_count": null,
      "outputs": [
        {
          "output_type": "execute_result",
          "data": {
            "text/plain": [
              "<tf.Tensor: shape=(), dtype=float32, numpy=0.40149385>"
            ]
          },
          "metadata": {},
          "execution_count": 44
        }
      ]
    },
    {
      "cell_type": "code",
      "source": [
        "# another way to create the mae\n",
        "tf.keras.losses.MAE(y_test,y_pred)"
      ],
      "metadata": {
        "colab": {
          "base_uri": "https://localhost:8080/"
        },
        "id": "8Rb8wS7KRiJ9",
        "outputId": "5841c181-a9e5-4ecb-fb77-8a6c82835e88"
      },
      "execution_count": null,
      "outputs": [
        {
          "output_type": "execute_result",
          "data": {
            "text/plain": [
              "<tf.Tensor: shape=(), dtype=float32, numpy=0.40149385>"
            ]
          },
          "metadata": {},
          "execution_count": 45
        }
      ]
    },
    {
      "cell_type": "code",
      "source": [
        "# calculat the mse\n",
        "tf.metrics.mean_squared_error(y_test,y_pred)"
      ],
      "metadata": {
        "colab": {
          "base_uri": "https://localhost:8080/"
        },
        "id": "h1W4z0ffRqBX",
        "outputId": "52875630-e086-4847-b198-71949462a312"
      },
      "execution_count": null,
      "outputs": [
        {
          "output_type": "execute_result",
          "data": {
            "text/plain": [
              "<tf.Tensor: shape=(), dtype=float32, numpy=0.1642756>"
            ]
          },
          "metadata": {},
          "execution_count": 46
        }
      ]
    },
    {
      "cell_type": "code",
      "source": [
        "# another way to create the mse\n",
        "tf.keras.losses.MSE(y_test,y_pred)"
      ],
      "metadata": {
        "colab": {
          "base_uri": "https://localhost:8080/"
        },
        "id": "LNSLyuteRxE-",
        "outputId": "f7536dd2-b833-46e8-e666-137453a016bb"
      },
      "execution_count": null,
      "outputs": [
        {
          "output_type": "execute_result",
          "data": {
            "text/plain": [
              "<tf.Tensor: shape=(), dtype=float32, numpy=0.1642756>"
            ]
          },
          "metadata": {},
          "execution_count": 47
        }
      ]
    },
    {
      "cell_type": "code",
      "source": [
        "# to access the numpy value\n",
        "tf.keras.losses.MSE(y_test,y_pred).numpy()"
      ],
      "metadata": {
        "colab": {
          "base_uri": "https://localhost:8080/"
        },
        "id": "wGiCpW_KSDZv",
        "outputId": "07c33d2c-cfe2-441a-cf42-dbf7a2746632"
      },
      "execution_count": null,
      "outputs": [
        {
          "output_type": "execute_result",
          "data": {
            "text/plain": [
              "0.1642756"
            ]
          },
          "metadata": {},
          "execution_count": 48
        }
      ]
    },
    {
      "cell_type": "markdown",
      "source": [
        " ### Running experiments to improve our model\n",
        " 1. get more data\n",
        " 2. make your model larger(using a more complex model)\n",
        " 3. train for longer"
      ],
      "metadata": {
        "id": "pD9itk1BOJQV"
      }
    },
    {
      "cell_type": "markdown",
      "source": [
        "### Tracking your experiments\n",
        "comparing your models \n",
        "\n",
        "1. tensorboard\n",
        "2. weights and bias"
      ],
      "metadata": {
        "id": "Q-wYQIySU0bg"
      }
    },
    {
      "cell_type": "code",
      "source": [
        "model2 = tf.keras.Sequential([\n",
        "    tf.keras.layers.Dense(1)\n",
        "])\n",
        "model2.compile(loss = [\"mae\"],\n",
        "              optimizer = tf.keras.optimizers.Adam(lr = 0.1),\n",
        "              metrics = [\"mae\"])\n",
        "model2.fit(tf.expand_dims(X_train,axis = -1),y_train,epochs = 100)"
      ],
      "metadata": {
        "colab": {
          "base_uri": "https://localhost:8080/"
        },
        "id": "VrUHSrbkWVE7",
        "outputId": "b642edd7-18cf-461e-a860-3cc70180d4dd"
      },
      "execution_count": null,
      "outputs": [
        {
          "output_type": "stream",
          "name": "stdout",
          "text": [
            "Epoch 1/100\n"
          ]
        },
        {
          "output_type": "stream",
          "name": "stderr",
          "text": [
            "/usr/local/lib/python3.8/dist-packages/keras/optimizers/optimizer_v2/adam.py:110: UserWarning: The `lr` argument is deprecated, use `learning_rate` instead.\n",
            "  super(Adam, self).__init__(name, **kwargs)\n"
          ]
        },
        {
          "output_type": "stream",
          "name": "stdout",
          "text": [
            "2/2 [==============================] - 1s 9ms/step - loss: 83.8568 - mae: 83.8568\n",
            "Epoch 2/100\n",
            "2/2 [==============================] - 0s 8ms/step - loss: 75.0848 - mae: 75.0848\n",
            "Epoch 3/100\n",
            "2/2 [==============================] - 0s 6ms/step - loss: 66.6154 - mae: 66.6154\n",
            "Epoch 4/100\n",
            "2/2 [==============================] - 0s 7ms/step - loss: 58.0063 - mae: 58.0063\n",
            "Epoch 5/100\n",
            "2/2 [==============================] - 0s 20ms/step - loss: 49.5955 - mae: 49.5955\n",
            "Epoch 6/100\n",
            "2/2 [==============================] - 0s 8ms/step - loss: 41.1585 - mae: 41.1585\n",
            "Epoch 7/100\n",
            "2/2 [==============================] - 0s 7ms/step - loss: 32.6962 - mae: 32.6962\n",
            "Epoch 8/100\n",
            "2/2 [==============================] - 0s 11ms/step - loss: 24.1026 - mae: 24.1026\n",
            "Epoch 9/100\n",
            "2/2 [==============================] - 0s 7ms/step - loss: 16.3520 - mae: 16.3520\n",
            "Epoch 10/100\n",
            "2/2 [==============================] - 0s 7ms/step - loss: 9.7564 - mae: 9.7564\n",
            "Epoch 11/100\n",
            "2/2 [==============================] - 0s 5ms/step - loss: 11.0449 - mae: 11.0449\n",
            "Epoch 12/100\n",
            "2/2 [==============================] - 0s 8ms/step - loss: 13.4874 - mae: 13.4874\n",
            "Epoch 13/100\n",
            "2/2 [==============================] - 0s 16ms/step - loss: 15.1644 - mae: 15.1644\n",
            "Epoch 14/100\n",
            "2/2 [==============================] - 0s 19ms/step - loss: 15.9684 - mae: 15.9684\n",
            "Epoch 15/100\n",
            "2/2 [==============================] - 0s 6ms/step - loss: 15.7161 - mae: 15.7161\n",
            "Epoch 16/100\n",
            "2/2 [==============================] - 0s 14ms/step - loss: 14.5169 - mae: 14.5169\n",
            "Epoch 17/100\n",
            "2/2 [==============================] - 0s 13ms/step - loss: 13.3609 - mae: 13.3609\n",
            "Epoch 18/100\n",
            "2/2 [==============================] - 0s 10ms/step - loss: 11.4565 - mae: 11.4565\n",
            "Epoch 19/100\n",
            "2/2 [==============================] - 0s 8ms/step - loss: 9.6433 - mae: 9.6433\n",
            "Epoch 20/100\n",
            "2/2 [==============================] - 0s 11ms/step - loss: 7.6189 - mae: 7.6189\n",
            "Epoch 21/100\n",
            "2/2 [==============================] - 0s 9ms/step - loss: 8.0500 - mae: 8.0500\n",
            "Epoch 22/100\n",
            "2/2 [==============================] - 0s 11ms/step - loss: 9.2101 - mae: 9.2101\n",
            "Epoch 23/100\n",
            "2/2 [==============================] - 0s 11ms/step - loss: 9.2803 - mae: 9.2803\n",
            "Epoch 24/100\n",
            "2/2 [==============================] - 0s 12ms/step - loss: 8.2780 - mae: 8.2780\n",
            "Epoch 25/100\n",
            "2/2 [==============================] - 0s 9ms/step - loss: 6.8003 - mae: 6.8003\n",
            "Epoch 26/100\n",
            "2/2 [==============================] - 0s 12ms/step - loss: 6.6171 - mae: 6.6171\n",
            "Epoch 27/100\n",
            "2/2 [==============================] - 0s 10ms/step - loss: 7.1791 - mae: 7.1791\n",
            "Epoch 28/100\n",
            "2/2 [==============================] - 0s 39ms/step - loss: 6.9194 - mae: 6.9194\n",
            "Epoch 29/100\n",
            "2/2 [==============================] - 0s 16ms/step - loss: 5.9920 - mae: 5.9920\n",
            "Epoch 30/100\n",
            "2/2 [==============================] - 0s 8ms/step - loss: 5.9155 - mae: 5.9155\n",
            "Epoch 31/100\n",
            "2/2 [==============================] - 0s 4ms/step - loss: 5.7730 - mae: 5.7730\n",
            "Epoch 32/100\n",
            "2/2 [==============================] - 0s 9ms/step - loss: 5.4053 - mae: 5.4053\n",
            "Epoch 33/100\n",
            "2/2 [==============================] - 0s 7ms/step - loss: 5.3474 - mae: 5.3474\n",
            "Epoch 34/100\n",
            "2/2 [==============================] - 0s 6ms/step - loss: 5.0905 - mae: 5.0905\n",
            "Epoch 35/100\n",
            "2/2 [==============================] - 0s 8ms/step - loss: 5.0201 - mae: 5.0201\n",
            "Epoch 36/100\n",
            "2/2 [==============================] - 0s 14ms/step - loss: 5.0777 - mae: 5.0777\n",
            "Epoch 37/100\n",
            "2/2 [==============================] - 0s 27ms/step - loss: 4.8549 - mae: 4.8549\n",
            "Epoch 38/100\n",
            "2/2 [==============================] - 0s 15ms/step - loss: 4.5003 - mae: 4.5003\n",
            "Epoch 39/100\n",
            "2/2 [==============================] - 0s 21ms/step - loss: 4.5238 - mae: 4.5238\n",
            "Epoch 40/100\n",
            "2/2 [==============================] - 0s 21ms/step - loss: 4.2879 - mae: 4.2879\n",
            "Epoch 41/100\n",
            "2/2 [==============================] - 0s 24ms/step - loss: 4.1141 - mae: 4.1141\n",
            "Epoch 42/100\n",
            "2/2 [==============================] - 0s 5ms/step - loss: 3.9363 - mae: 3.9363\n",
            "Epoch 43/100\n",
            "2/2 [==============================] - 0s 7ms/step - loss: 3.7976 - mae: 3.7976\n",
            "Epoch 44/100\n",
            "2/2 [==============================] - 0s 7ms/step - loss: 3.5875 - mae: 3.5875\n",
            "Epoch 45/100\n",
            "2/2 [==============================] - 0s 6ms/step - loss: 3.5907 - mae: 3.5907\n",
            "Epoch 46/100\n",
            "2/2 [==============================] - 0s 7ms/step - loss: 3.5799 - mae: 3.5799\n",
            "Epoch 47/100\n",
            "2/2 [==============================] - 0s 10ms/step - loss: 3.2290 - mae: 3.2290\n",
            "Epoch 48/100\n",
            "2/2 [==============================] - 0s 11ms/step - loss: 2.9816 - mae: 2.9816\n",
            "Epoch 49/100\n",
            "2/2 [==============================] - 0s 12ms/step - loss: 2.8448 - mae: 2.8448\n",
            "Epoch 50/100\n",
            "2/2 [==============================] - 0s 14ms/step - loss: 2.7026 - mae: 2.7026\n",
            "Epoch 51/100\n",
            "2/2 [==============================] - 0s 15ms/step - loss: 2.6702 - mae: 2.6702\n",
            "Epoch 52/100\n",
            "2/2 [==============================] - 0s 11ms/step - loss: 2.4623 - mae: 2.4623\n",
            "Epoch 53/100\n",
            "2/2 [==============================] - 0s 11ms/step - loss: 2.2619 - mae: 2.2619\n",
            "Epoch 54/100\n",
            "2/2 [==============================] - 0s 11ms/step - loss: 2.4284 - mae: 2.4284\n",
            "Epoch 55/100\n",
            "2/2 [==============================] - 0s 11ms/step - loss: 2.1758 - mae: 2.1758\n",
            "Epoch 56/100\n",
            "2/2 [==============================] - 0s 18ms/step - loss: 2.0420 - mae: 2.0420\n",
            "Epoch 57/100\n",
            "2/2 [==============================] - 0s 19ms/step - loss: 2.0355 - mae: 2.0355\n",
            "Epoch 58/100\n",
            "2/2 [==============================] - 0s 16ms/step - loss: 1.5249 - mae: 1.5249\n",
            "Epoch 59/100\n",
            "2/2 [==============================] - 0s 7ms/step - loss: 1.6703 - mae: 1.6703\n",
            "Epoch 60/100\n",
            "2/2 [==============================] - 0s 18ms/step - loss: 1.2392 - mae: 1.2392\n",
            "Epoch 61/100\n",
            "2/2 [==============================] - 0s 8ms/step - loss: 1.1220 - mae: 1.1220\n",
            "Epoch 62/100\n",
            "2/2 [==============================] - 0s 7ms/step - loss: 1.0490 - mae: 1.0490\n",
            "Epoch 63/100\n",
            "2/2 [==============================] - 0s 19ms/step - loss: 0.8333 - mae: 0.8333\n",
            "Epoch 64/100\n",
            "2/2 [==============================] - 0s 15ms/step - loss: 0.7176 - mae: 0.7176\n",
            "Epoch 65/100\n",
            "2/2 [==============================] - 0s 14ms/step - loss: 0.4934 - mae: 0.4934\n",
            "Epoch 66/100\n",
            "2/2 [==============================] - 0s 8ms/step - loss: 0.4137 - mae: 0.4137\n",
            "Epoch 67/100\n",
            "2/2 [==============================] - 0s 24ms/step - loss: 0.4852 - mae: 0.4852\n",
            "Epoch 68/100\n",
            "2/2 [==============================] - 0s 24ms/step - loss: 0.2095 - mae: 0.2095\n",
            "Epoch 69/100\n",
            "2/2 [==============================] - 0s 20ms/step - loss: 0.5659 - mae: 0.5659\n",
            "Epoch 70/100\n",
            "2/2 [==============================] - 0s 19ms/step - loss: 0.1794 - mae: 0.1794\n",
            "Epoch 71/100\n",
            "2/2 [==============================] - 0s 6ms/step - loss: 0.2758 - mae: 0.2758\n",
            "Epoch 72/100\n",
            "2/2 [==============================] - 0s 5ms/step - loss: 0.2143 - mae: 0.2143\n",
            "Epoch 73/100\n",
            "2/2 [==============================] - 0s 6ms/step - loss: 0.3236 - mae: 0.3236\n",
            "Epoch 74/100\n",
            "2/2 [==============================] - 0s 10ms/step - loss: 0.2340 - mae: 0.2340\n",
            "Epoch 75/100\n",
            "2/2 [==============================] - 0s 15ms/step - loss: 0.2939 - mae: 0.2939\n",
            "Epoch 76/100\n",
            "2/2 [==============================] - 0s 17ms/step - loss: 0.6783 - mae: 0.6783\n",
            "Epoch 77/100\n",
            "2/2 [==============================] - 0s 10ms/step - loss: 0.3464 - mae: 0.3464\n",
            "Epoch 78/100\n",
            "2/2 [==============================] - 0s 9ms/step - loss: 1.2984 - mae: 1.2984\n",
            "Epoch 79/100\n",
            "2/2 [==============================] - 0s 9ms/step - loss: 0.4017 - mae: 0.4017\n",
            "Epoch 80/100\n",
            "2/2 [==============================] - 0s 7ms/step - loss: 1.2425 - mae: 1.2425\n",
            "Epoch 81/100\n",
            "2/2 [==============================] - 0s 10ms/step - loss: 0.1459 - mae: 0.1459\n",
            "Epoch 82/100\n",
            "2/2 [==============================] - 0s 8ms/step - loss: 0.4031 - mae: 0.4031\n",
            "Epoch 83/100\n",
            "2/2 [==============================] - 0s 6ms/step - loss: 0.2337 - mae: 0.2337\n",
            "Epoch 84/100\n",
            "2/2 [==============================] - 0s 6ms/step - loss: 0.4854 - mae: 0.4854\n",
            "Epoch 85/100\n",
            "2/2 [==============================] - 0s 6ms/step - loss: 1.0643 - mae: 1.0643\n",
            "Epoch 86/100\n",
            "2/2 [==============================] - 0s 6ms/step - loss: 0.9646 - mae: 0.9646\n",
            "Epoch 87/100\n",
            "2/2 [==============================] - 0s 5ms/step - loss: 1.2247 - mae: 1.2247\n",
            "Epoch 88/100\n",
            "2/2 [==============================] - 0s 5ms/step - loss: 1.4710 - mae: 1.4710\n",
            "Epoch 89/100\n",
            "2/2 [==============================] - 0s 6ms/step - loss: 0.4103 - mae: 0.4103\n",
            "Epoch 90/100\n",
            "2/2 [==============================] - 0s 6ms/step - loss: 0.4955 - mae: 0.4955\n",
            "Epoch 91/100\n",
            "2/2 [==============================] - 0s 6ms/step - loss: 0.2990 - mae: 0.2990\n",
            "Epoch 92/100\n",
            "2/2 [==============================] - 0s 6ms/step - loss: 0.2341 - mae: 0.2341\n",
            "Epoch 93/100\n",
            "2/2 [==============================] - 0s 5ms/step - loss: 0.2102 - mae: 0.2102\n",
            "Epoch 94/100\n",
            "2/2 [==============================] - 0s 5ms/step - loss: 0.1364 - mae: 0.1364\n",
            "Epoch 95/100\n",
            "2/2 [==============================] - 0s 5ms/step - loss: 0.1196 - mae: 0.1196\n",
            "Epoch 96/100\n",
            "2/2 [==============================] - 0s 5ms/step - loss: 0.1279 - mae: 0.1279\n",
            "Epoch 97/100\n",
            "2/2 [==============================] - 0s 7ms/step - loss: 0.1787 - mae: 0.1787\n",
            "Epoch 98/100\n",
            "2/2 [==============================] - 0s 6ms/step - loss: 0.1468 - mae: 0.1468\n",
            "Epoch 99/100\n",
            "2/2 [==============================] - 0s 6ms/step - loss: 0.3293 - mae: 0.3293\n",
            "Epoch 100/100\n",
            "2/2 [==============================] - 0s 6ms/step - loss: 0.2118 - mae: 0.2118\n"
          ]
        },
        {
          "output_type": "execute_result",
          "data": {
            "text/plain": [
              "<keras.callbacks.History at 0x7fd2a485dd30>"
            ]
          },
          "metadata": {},
          "execution_count": 49
        }
      ]
    },
    {
      "cell_type": "code",
      "source": [
        "y_pred2 = tf.squeeze(model2.predict(X_test))\n",
        "y_pred2.shape"
      ],
      "metadata": {
        "colab": {
          "base_uri": "https://localhost:8080/"
        },
        "id": "_iSy3a7iaRZL",
        "outputId": "6bca8ab7-aa94-489c-97b4-567c0eb478f3"
      },
      "execution_count": null,
      "outputs": [
        {
          "output_type": "stream",
          "name": "stderr",
          "text": [
            "WARNING:tensorflow:6 out of the last 6 calls to <function Model.make_predict_function.<locals>.predict_function at 0x7fd2a47f4ee0> triggered tf.function retracing. Tracing is expensive and the excessive number of tracings could be due to (1) creating @tf.function repeatedly in a loop, (2) passing tensors with different shapes, (3) passing Python objects instead of tensors. For (1), please define your @tf.function outside of the loop. For (2), @tf.function has reduce_retracing=True option that can avoid unnecessary retracing. For (3), please refer to https://www.tensorflow.org/guide/function#controlling_retracing and https://www.tensorflow.org/api_docs/python/tf/function for  more details.\n"
          ]
        },
        {
          "output_type": "stream",
          "name": "stdout",
          "text": [
            "1/1 [==============================] - 0s 43ms/step\n"
          ]
        },
        {
          "output_type": "execute_result",
          "data": {
            "text/plain": [
              "TensorShape([10])"
            ]
          },
          "metadata": {},
          "execution_count": 50
        }
      ]
    },
    {
      "cell_type": "code",
      "source": [
        "tf.metrics.mean_absolute_error(y_test,y_pred2)"
      ],
      "metadata": {
        "colab": {
          "base_uri": "https://localhost:8080/"
        },
        "id": "-Q0rtKW2ce55",
        "outputId": "9cca81fa-117c-4758-aad9-e9884d6dd07c"
      },
      "execution_count": null,
      "outputs": [
        {
          "output_type": "execute_result",
          "data": {
            "text/plain": [
              "<tf.Tensor: shape=(), dtype=float32, numpy=0.8776291>"
            ]
          },
          "metadata": {},
          "execution_count": 51
        }
      ]
    },
    {
      "cell_type": "code",
      "source": [
        "plot_predictions(predictions = y_pred2)"
      ],
      "metadata": {
        "colab": {
          "base_uri": "https://localhost:8080/",
          "height": 444
        },
        "id": "2FRUtqFcfQM0",
        "outputId": "df9ada8d-33c9-4abf-b39c-8a58b75bddc2"
      },
      "execution_count": null,
      "outputs": [
        {
          "output_type": "display_data",
          "data": {
            "text/plain": [
              "<Figure size 720x504 with 1 Axes>"
            ],
            "image/png": "[encoded data removed]"
          },
          "metadata": {
            "needs_background": "light"
          }
        }
      ]
    },
    {
      "cell_type": "code",
      "source": [
        "plot_predictions()"
      ],
      "metadata": {
        "colab": {
          "base_uri": "https://localhost:8080/",
          "height": 444
        },
        "id": "WtTU6dPkfe10",
        "outputId": "6d1268f9-0616-4e12-900e-867aad23a579"
      },
      "execution_count": null,
      "outputs": [
        {
          "output_type": "display_data",
          "data": {
            "text/plain": [
              "<Figure size 720x504 with 1 Axes>"
            ],
            "image/png": "[encoded data removed]"
          },
          "metadata": {
            "needs_background": "light"
          }
        }
      ]
    },
    {
      "cell_type": "code",
      "source": [
        "model2.predict([70,80,90])"
      ],
      "metadata": {
        "colab": {
          "base_uri": "https://localhost:8080/"
        },
        "id": "7RHiSknjgLb7",
        "outputId": "b8652c45-b6d8-41e2-8c12-b62a1f0a9528"
      },
      "execution_count": null,
      "outputs": [
        {
          "output_type": "stream",
          "name": "stdout",
          "text": [
            "1/1 [==============================] - 0s 58ms/step\n"
          ]
        },
        {
          "output_type": "execute_result",
          "data": {
            "text/plain": [
              "array([[ 80.782455],\n",
              "       [ 90.90143 ],\n",
              "       [101.020386]], dtype=float32)"
            ]
          },
          "metadata": {},
          "execution_count": 54
        }
      ]
    },
    {
      "cell_type": "markdown",
      "source": [
        "## saving model\n",
        "saving model is to save the weights or patterns and the optimization for later purposes like using on a different project.\n",
        "\n",
        "There are 2 to save a model\n",
        "1. normal savemodel format(commonly used format, used when we prefer to stay in colab)\n",
        "2. hdf5 format(which is used when we should use the model elsewhere) - use .h5 extension at the end of the file name for this"
      ],
      "metadata": {
        "id": "duQ6ITofw_1B"
      }
    },
    {
      "cell_type": "code",
      "source": [
        "# normal saved format\n",
        "# model2.save(\"predicting(x+10)no\")"
      ],
      "metadata": {
        "id": "aPUWnrTZxOaa"
      },
      "execution_count": null,
      "outputs": []
    },
    {
      "cell_type": "code",
      "source": [
        "# hdf5 save model\n",
        "# model2.save(\"predicting(X+10)no.h5\")"
      ],
      "metadata": {
        "id": "HOLdYZl2xWEA"
      },
      "execution_count": null,
      "outputs": []
    },
    {
      "cell_type": "markdown",
      "source": [
        "### loading a model\n",
        "when loading a saved model we can access the patterns that the model has leared from its previous save"
      ],
      "metadata": {
        "id": "Zc_J8r7i2hw4"
      }
    },
    {
      "cell_type": "code",
      "source": [
        "# to load a normal saved format model\n",
        "normal_saved_model = tf.keras.models.load_model(\"predicting(x+10)no\")\n",
        "normal_saved_model.summary()"
      ],
      "metadata": {
        "colab": {
          "base_uri": "https://localhost:8080/"
        },
        "id": "76KCSr5d5uoM",
        "outputId": "67bec424-ea8c-43c4-c43d-05a8207d75ca"
      },
      "execution_count": null,
      "outputs": [
        {
          "output_type": "stream",
          "name": "stdout",
          "text": [
            "Model: \"sequential_5\"\n",
            "_________________________________________________________________\n",
            " Layer (type)                Output Shape              Param #   \n",
            "=================================================================\n",
            " dense_8 (Dense)             (None, 1)                 2         \n",
            "                                                                 \n",
            "=================================================================\n",
            "Total params: 2\n",
            "Trainable params: 2\n",
            "Non-trainable params: 0\n",
            "_________________________________________________________________\n"
          ]
        }
      ]
    },
    {
      "cell_type": "code",
      "source": [
        "plot_model(normal_saved_model, show_shapes= True)"
      ],
      "metadata": {
        "colab": {
          "base_uri": "https://localhost:8080/",
          "height": 201
        },
        "id": "A_4AEwfB6G6M",
        "outputId": "debbd30d-2ad5-4e77-de18-afee13d32f5a"
      },
      "execution_count": null,
      "outputs": [
        {
          "output_type": "execute_result",
          "data": {
            "image/png": "[encoded data removed]",
            "text/plain": [
              "<IPython.core.display.Image object>"
            ]
          },
          "metadata": {},
          "execution_count": 64
        }
      ]
    },
    {
      "cell_type": "code",
      "source": [
        "normal_saved_model_preds = normal_saved_model.predict(X_test)\n",
        "normal_saved_model_preds"
      ],
      "metadata": {
        "colab": {
          "base_uri": "https://localhost:8080/"
        },
        "id": "1jXiX0rI6jag",
        "outputId": "06bde5bf-bf5d-4eda-e3ce-38e4cf46f072"
      },
      "execution_count": null,
      "outputs": [
        {
          "output_type": "stream",
          "name": "stdout",
          "text": [
            "1/1 [==============================] - 0s 74ms/step\n"
          ]
        },
        {
          "output_type": "execute_result",
          "data": {
            "text/plain": [
              "array([[ 70.6635  ],\n",
              "       [ 74.71109 ],\n",
              "       [ 78.75867 ],\n",
              "       [ 82.80626 ],\n",
              "       [ 86.853836],\n",
              "       [ 90.90143 ],\n",
              "       [ 94.949005],\n",
              "       [ 98.99658 ],\n",
              "       [103.044174],\n",
              "       [107.09175 ]], dtype=float32)"
            ]
          },
          "metadata": {},
          "execution_count": 65
        }
      ]
    },
    {
      "cell_type": "code",
      "source": [
        "# to check if loaded model and model2 produce the same result\n",
        "tf.squeeze(normal_saved_model_preds) == tf.squeeze(model2.predict(X_test))"
      ],
      "metadata": {
        "colab": {
          "base_uri": "https://localhost:8080/"
        },
        "id": "WZu1aYxp60O_",
        "outputId": "fba37913-b3e1-4a30-ba1f-c728bd17dfca"
      },
      "execution_count": null,
      "outputs": [
        {
          "output_type": "stream",
          "name": "stdout",
          "text": [
            "1/1 [==============================] - 0s 21ms/step\n"
          ]
        },
        {
          "output_type": "execute_result",
          "data": {
            "text/plain": [
              "<tf.Tensor: shape=(10,), dtype=bool, numpy=\n",
              "array([ True,  True,  True,  True,  True,  True,  True,  True,  True,\n",
              "        True])>"
            ]
          },
          "metadata": {},
          "execution_count": 66
        }
      ]
    },
    {
      "cell_type": "code",
      "source": [
        "# loading a hdf5 format model\n",
        "load_hdf5_model = tf.keras.models.load_model(\"predicting(X+10)no.h5\")\n",
        "load_hdf5_model.summary()"
      ],
      "metadata": {
        "colab": {
          "base_uri": "https://localhost:8080/"
        },
        "id": "EMzWMjF77iT2",
        "outputId": "968e1a6b-8228-476d-bcc0-8c5ee59c09c2"
      },
      "execution_count": null,
      "outputs": [
        {
          "output_type": "stream",
          "name": "stdout",
          "text": [
            "Model: \"sequential_5\"\n",
            "_________________________________________________________________\n",
            " Layer (type)                Output Shape              Param #   \n",
            "=================================================================\n",
            " dense_8 (Dense)             (None, 1)                 2         \n",
            "                                                                 \n",
            "=================================================================\n",
            "Total params: 2\n",
            "Trainable params: 2\n",
            "Non-trainable params: 0\n",
            "_________________________________________________________________\n"
          ]
        }
      ]
    },
    {
      "cell_type": "code",
      "source": [
        "plot_model(load_hdf5_model)"
      ],
      "metadata": {
        "colab": {
          "base_uri": "https://localhost:8080/",
          "height": 174
        },
        "id": "L0mtW4Cj7z7O",
        "outputId": "d59bd429-c323-4f23-c024-10883f912d61"
      },
      "execution_count": null,
      "outputs": [
        {
          "output_type": "execute_result",
          "data": {
            "image/png": "[encoded data removed]",
            "text/plain": [
              "<IPython.core.display.Image object>"
            ]
          },
          "metadata": {},
          "execution_count": 71
        }
      ]
    },
    {
      "cell_type": "code",
      "source": [
        "# to check whether the loaded model and the model2 produce the same result\n",
        "tf.squeeze(load_hdf5_model.predict(X_test)) == tf.squeeze(model2.predict(X_test))"
      ],
      "metadata": {
        "colab": {
          "base_uri": "https://localhost:8080/"
        },
        "id": "rb82Q7xF77dv",
        "outputId": "a6a464d5-bda8-4309-c0f2-3c6658a63b36"
      },
      "execution_count": null,
      "outputs": [
        {
          "output_type": "stream",
          "name": "stdout",
          "text": [
            "1/1 [==============================] - 0s 274ms/step\n",
            "1/1 [==============================] - 0s 149ms/step\n"
          ]
        },
        {
          "output_type": "execute_result",
          "data": {
            "text/plain": [
              "<tf.Tensor: shape=(10,), dtype=bool, numpy=\n",
              "array([ True,  True,  True,  True,  True,  True,  True,  True,  True,\n",
              "        True])>"
            ]
          },
          "metadata": {},
          "execution_count": 72
        }
      ]
    },
    {
      "cell_type": "markdown",
      "source": [
        "## saved and download files "
      ],
      "metadata": {
        "id": "gmIvIlzn9L7z"
      }
    },
    {
      "cell_type": "code",
      "source": [
        "# download file from google colab\n",
        "# from google.colab import files\n",
        "# files.download(\"filepath\")"
      ],
      "metadata": {
        "id": "TYd4XuFQ9WhV"
      },
      "execution_count": null,
      "outputs": []
    },
    {
      "cell_type": "code",
      "source": [
        "# save a file from google colab to google drive\n",
        "# !cp locationofthefile distinction"
      ],
      "metadata": {
        "id": "d6l5B3TJ9fA_"
      },
      "execution_count": null,
      "outputs": []
    },
    {
      "cell_type": "code",
      "source": [
        "# lists the directories and files in the current  location\n",
        "# !ls location"
      ],
      "metadata": {
        "id": "f8dws6Vh9rQE"
      },
      "execution_count": null,
      "outputs": []
    }
  ]
}